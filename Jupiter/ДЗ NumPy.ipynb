{
 "cells": [
  {
   "cell_type": "markdown",
   "id": "8d9572a5",
   "metadata": {},
   "source": [
    "# Задачи:\n",
    "## 1 Опишите своими словами как выглядит одномерный двумерный массив?\n",
    "## 2 Что произойдёт с этим массивом,если добавится третья ось?\n",
    "## 3 Какие вычисления способна производить NumPy с этими данными?\n",
    "## 4 Пусть дан массив: \n",
    "e =np.array([(1,2,3),(4,5,6)]).\n",
    "Реализуйте в NumPy простейший срез по рядам"
   ]
  },
  {
   "cell_type": "code",
   "execution_count": 6,
   "id": "0bbc941a",
   "metadata": {},
   "outputs": [
    {
     "data": {
      "text/plain": [
       "array([[1, 2, 3],\n",
       "       [4, 5, 6]])"
      ]
     },
     "execution_count": 6,
     "metadata": {},
     "output_type": "execute_result"
    }
   ],
   "source": [
    "\"\"\"\n",
    "\"Мерность\" массивов определяется кол-вом \"осей\", одномерный - по оси х (линейный, строка), \n",
    "двумерный по осям х-у (строка, столбец), трех мерный х-у-z (строка, столбец, глубина)\n",
    "\"\"\"\n",
    "import numpy as np\n",
    "e =np.array([(1,2,3),(4,5,6)])\n",
    "e\n"
   ]
  },
  {
   "cell_type": "code",
   "execution_count": 7,
   "id": "a019afc5",
   "metadata": {},
   "outputs": [
    {
     "data": {
      "text/plain": [
       "array([1, 2, 3])"
      ]
     },
     "execution_count": 7,
     "metadata": {},
     "output_type": "execute_result"
    }
   ],
   "source": [
    "\"\"\" Срез по первой строке (0)\"\"\"\n",
    "e[0]"
   ]
  },
  {
   "cell_type": "code",
   "execution_count": 8,
   "id": "e80800de",
   "metadata": {},
   "outputs": [
    {
     "data": {
      "text/plain": [
       "array([4, 5, 6])"
      ]
     },
     "execution_count": 8,
     "metadata": {},
     "output_type": "execute_result"
    }
   ],
   "source": [
    "\"\"\" Срез по второй строке (1)\"\"\"\n",
    "e[1]"
   ]
  },
  {
   "cell_type": "markdown",
   "id": "c094b237",
   "metadata": {},
   "source": [
    "Задачи:\n",
    "1\tКакие функции выполняет модуль Random?\n",
    "2\tКак создать массив с помошью модуля?\n",
    "3\tНазовите способ сделать случайную выборку из массива?\n",
    "4\tЧто вообше такое - случайные числа?"
   ]
  },
  {
   "cell_type": "code",
   "execution_count": 9,
   "id": "83255e55",
   "metadata": {},
   "outputs": [
    {
     "data": {
      "text/plain": [
       "'\\n1 Модуль random — это модуль, который позволяет генерировать псевдослучайные числа и таким образом имитировать случайные события\\n2 import numpy as np        \\n  from numpy import random\\n  random.rand()  \"Генерируем случайное число от 0 до 1.\"\\n3 Воспользуемся методом choice. \"random.choice([х, х, ..., х, х])\"\"\\n4 \"Случайная величина. Случайная величина (random variable) — это величина, которая в зависимости от случая может принимать определенное значение с заданной вероятностью\"\\n\\n'"
      ]
     },
     "execution_count": 9,
     "metadata": {},
     "output_type": "execute_result"
    }
   ],
   "source": [
    "\"\"\"\n",
    "1 Модуль random — это модуль, который позволяет генерировать псевдослучайные числа и таким образом имитировать случайные события\n",
    "2 import numpy as np        \n",
    "  from numpy import random\n",
    "  random.rand()  \"Генерируем случайное число от 0 до 1.\"\n",
    "3 Воспользуемся методом choice. \"random.choice([х, х, ..., х, х])\"\"\n",
    "4 \"Случайная величина. Случайная величина (random variable) — это величина, которая в зависимости от случая может принимать определенное значение с заданной вероятностью\"\n",
    "\n",
    "\"\"\""
   ]
  },
  {
   "cell_type": "code",
   "execution_count": null,
   "id": "04cfd6f9",
   "metadata": {},
   "outputs": [],
   "source": []
  }
 ],
 "metadata": {
  "kernelspec": {
   "display_name": "Python 3 (ipykernel)",
   "language": "python",
   "name": "python3"
  },
  "language_info": {
   "codemirror_mode": {
    "name": "ipython",
    "version": 3
   },
   "file_extension": ".py",
   "mimetype": "text/x-python",
   "name": "python",
   "nbconvert_exporter": "python",
   "pygments_lexer": "ipython3",
   "version": "3.11.7"
  }
 },
 "nbformat": 4,
 "nbformat_minor": 5
}
