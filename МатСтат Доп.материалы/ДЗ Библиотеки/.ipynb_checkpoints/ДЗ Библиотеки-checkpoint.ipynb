{
 "cells": [
  {
   "cell_type": "markdown",
   "id": "d338c60d",
   "metadata": {},
   "source": [
    "# Задачи:\n",
    "## 1\tКак подключить библиотеку?\n",
    "## 2\tНазовите три функции - итератора бесконечной итерации.\n",
    "## 3\tНазовите функции - итераторы комбинации значений.\n",
    "## 4\tНапишите инструменты фильтрации последовательности."
   ]
  },
  {
   "cell_type": "code",
   "execution_count": null,
   "id": "e412d5e9",
   "metadata": {},
   "outputs": [],
   "source": [
    "# 1.\n",
    "import itertools\n",
    "import operator\n"
   ]
  },
  {
   "cell_type": "markdown",
   "id": "139eb0b0",
   "metadata": {},
   "source": [
    "2. Count, Cycle(iterable), Repeat\n",
    "3. Product, Permutations, Combinations, Combinations_with_replacement\n",
    "4. Filterfalse, Dropwhile, Takewhile, Compress."
   ]
  },
  {
   "cell_type": "markdown",
   "id": "b8bf6c34",
   "metadata": {},
   "source": [
    "# Задачи:\n",
    "## 1\tЧто такое машинное обучение?\n",
    "## 2\tКакие основные виды машинного обучения вы знаете?\n",
    "## 3\tЧто такое решающее дерево?"
   ]
  },
  {
   "cell_type": "markdown",
   "id": "3162f779",
   "metadata": {},
   "source": [
    "1. (Machine Learning) — это способ обучать компьютеры без программирования и явных инструкций, используя только шаблоны и логические выводы. \n",
    "2. Обучение с учителем, обучение без учителя, обучение с подкреплением.\n",
    "3. Дерево решений - это тип алгоритма контролируемого обучения, который обычно используется в машинном обучении для моделирования и прогнозирования результатов на основе входных данных. Это древовидная структура, в которой каждый внутренний узел проверяет атрибут, каждая ветвь соответствует значению атрибута, а каждый конечный узел представляет окончательное решение или прогноз.\n"
   ]
  }
 ],
 "metadata": {
  "kernelspec": {
   "display_name": "Python 3 (ipykernel)",
   "language": "python",
   "name": "python3"
  },
  "language_info": {
   "codemirror_mode": {
    "name": "ipython",
    "version": 3
   },
   "file_extension": ".py",
   "mimetype": "text/x-python",
   "name": "python",
   "nbconvert_exporter": "python",
   "pygments_lexer": "ipython3",
   "version": "3.11.7"
  }
 },
 "nbformat": 4,
 "nbformat_minor": 5
}
