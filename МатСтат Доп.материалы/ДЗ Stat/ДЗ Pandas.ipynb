{
 "cells": [
  {
   "cell_type": "markdown",
   "id": "b0528961",
   "metadata": {},
   "source": [
    "# Задачи:\n",
    "### 1Дайте краткое определение библиотеке Pandas\n",
    "### 2КакустановитьPandas?\n",
    "### 3С помощью какой функции в Pandas можно произвести переиндексировние объекта?\n",
    "### 4Как удалить удалить объект,используя Pandas? Назовите метод.\n",
    "### 5Пусть дан массив: \n",
    ">>> ser=pd.Series(np.arange(4.), index=['red','blue','yellow','white']) \n",
    ">>>ser\n",
    "Red 0.0\n",
    "blue 1.0\n",
    "yellow 2.0\n",
    "white 3.0\n",
    "dtype: float64\n",
    "Нужно удалить объект yellow"
   ]
  },
  {
   "cell_type": "code",
   "execution_count": 4,
   "id": "20c190b8",
   "metadata": {},
   "outputs": [
    {
     "data": {
      "text/plain": [
       "red       0.0\n",
       "blue      1.0\n",
       "yellow    2.0\n",
       "white     3.0\n",
       "dtype: float64"
      ]
     },
     "execution_count": 4,
     "metadata": {},
     "output_type": "execute_result"
    }
   ],
   "source": [
    "import numpy as np\n",
    "import pandas as pd\n",
    "ser=pd.Series(np.arange(4.), index=['red','blue','yellow','white']) \n",
    "ser"
   ]
  },
  {
   "cell_type": "code",
   "execution_count": 6,
   "id": "46fd770b",
   "metadata": {},
   "outputs": [
    {
     "data": {
      "text/plain": [
       "red      0.0\n",
       "blue     1.0\n",
       "white    3.0\n",
       "dtype: float64"
      ]
     },
     "execution_count": 6,
     "metadata": {},
     "output_type": "execute_result"
    }
   ],
   "source": [
    "#Удаление объекта Yellow\n",
    "ser = ser.drop('yellow')\n",
    "ser"
   ]
  },
  {
   "cell_type": "markdown",
   "id": "53b7b0e3",
   "metadata": {},
   "source": [
    "Задачи:\n",
    "1 Перечислите (молено не на память, просто их нужно держать перед глазами и уметь ими пользоваться) статистические характеристики. Повторите за спикером примеры их использования."
   ]
  },
  {
   "cell_type": "markdown",
   "id": "53e5b06b",
   "metadata": {},
   "source": [
    "количество;\n",
    "\n",
    "среднее значение;\n",
    "\n",
    "стандартное отклонение;\n",
    "\n",
    "минимальное значение;\n",
    "\n",
    "максимальное значение;\n",
    "\n",
    "значения 25%, 50% и 75% процентилей.\n",
    "Для получения статистических характеристик в Pandas можно использовать функцию describe()."
   ]
  },
  {
   "cell_type": "code",
   "execution_count": null,
   "id": "b85dada9",
   "metadata": {},
   "outputs": [],
   "source": []
  },
  {
   "cell_type": "code",
   "execution_count": null,
   "id": "ce89648f",
   "metadata": {},
   "outputs": [],
   "source": []
  }
 ],
 "metadata": {
  "kernelspec": {
   "display_name": "Python 3 (ipykernel)",
   "language": "python",
   "name": "python3"
  },
  "language_info": {
   "codemirror_mode": {
    "name": "ipython",
    "version": 3
   },
   "file_extension": ".py",
   "mimetype": "text/x-python",
   "name": "python",
   "nbconvert_exporter": "python",
   "pygments_lexer": "ipython3",
   "version": "3.11.7"
  }
 },
 "nbformat": 4,
 "nbformat_minor": 5
}
