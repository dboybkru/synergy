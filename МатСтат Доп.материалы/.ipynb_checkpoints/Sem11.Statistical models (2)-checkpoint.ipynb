{
 "cells": [
  {
   "cell_type": "markdown",
   "metadata": {},
   "source": [
    "# I.Statsmodels\n",
    "## I.1 Statsmodel. Ordinary Least Squares"
   ]
  },
  {
   "cell_type": "code",
   "execution_count": 1,
   "metadata": {},
   "outputs": [],
   "source": [
    "import matplotlib.pyplot as plt\n",
    "import numpy as np\n",
    "import pandas as pd\n",
    "import statsmodels.api as sm\n",
    "plt.style.use('ggplot')"
   ]
  },
  {
   "cell_type": "code",
   "execution_count": null,
   "metadata": {},
   "outputs": [],
   "source": [
    "nsample = 100\n",
    "x = np.linspace(0, 10, 100)\n",
    "X = np.column_stack((x,x**3))\n",
    "beta = np.array([1, 0.1, 10])\n",
    "e = np.random.normal(size=nsample)\n",
    "\n",
    "X = sm.add_constant(X)\n",
    "y = np.dot(X, beta) + e\n",
    "\n",
    "model = sm.OLS(y, X)\n",
    "results = model.fit()\n",
    "print(results.summary())"
   ]
  },
  {
   "cell_type": "code",
   "execution_count": null,
   "metadata": {
    "scrolled": true
   },
   "outputs": [],
   "source": [
    "pred_ols = results.get_prediction()\n",
    "iv_l = pred_ols.summary_frame()[\"obs_ci_lower\"]\n",
    "iv_u = pred_ols.summary_frame()[\"obs_ci_upper\"]\n",
    "\n",
    "fig, ax = plt.subplots(figsize=(8, 6))\n",
    "\n",
    "ax.plot(x, y, \"o\", label=\"data\", c='m')\n",
    "#ax.plot(x, y, \"b-\", label=\"True\")\n",
    "ax.plot(x, results.fittedvalues, \"r--.\", label=\"OLS\")\n",
    "ax.plot(x, iv_u, \"r--\")\n",
    "ax.plot(x, iv_l, \"r--\")\n",
    "ax.legend(loc=\"best\")"
   ]
  },
  {
   "cell_type": "markdown",
   "metadata": {},
   "source": [
    "### Нелинейный случай"
   ]
  },
  {
   "cell_type": "code",
   "execution_count": null,
   "metadata": {},
   "outputs": [],
   "source": [
    "nsample = 50\n",
    "sig = 0.5\n",
    "x = np.linspace(0, 20, nsample)\n",
    "X = np.column_stack((x, np.sin(x), (x - 5) ** 2, np.ones(nsample)))\n",
    "beta = [0.5, 0.5, -0.02, 5.0]\n",
    "\n",
    "y_true = np.dot(X, beta)\n",
    "y = y_true + sig * np.random.normal(size=nsample)"
   ]
  },
  {
   "cell_type": "code",
   "execution_count": null,
   "metadata": {},
   "outputs": [],
   "source": [
    "res = sm.OLS(y, X).fit()\n",
    "print(res.summary())"
   ]
  },
  {
   "cell_type": "code",
   "execution_count": null,
   "metadata": {},
   "outputs": [],
   "source": [
    "pred_ols = res.get_prediction()\n",
    "iv_l = pred_ols.summary_frame()[\"obs_ci_lower\"]\n",
    "iv_u = pred_ols.summary_frame()[\"obs_ci_upper\"]\n",
    "\n",
    "fig, ax = plt.subplots(figsize=(8, 6))\n",
    "\n",
    "ax.plot(x, y, \"o\", label=\"data\")\n",
    "ax.plot(x, y_true, \"b-\", label=\"True\")\n",
    "ax.plot(x, res.fittedvalues, \"r--.\", label=\"OLS\")\n",
    "ax.plot(x, iv_u, \"r--\")\n",
    "ax.plot(x, iv_l, \"r--\")\n",
    "ax.legend(loc=\"best\")"
   ]
  },
  {
   "cell_type": "markdown",
   "metadata": {},
   "source": [
    "## I.2 Фильтр Ходрика-Прескотта\n",
    "<img src=\"HPF.PNG\">"
   ]
  },
  {
   "cell_type": "code",
   "execution_count": null,
   "metadata": {},
   "outputs": [],
   "source": [
    "dta = sm.datasets.macrodata.load_pandas().data\n",
    "index = pd.Index(sm.tsa.datetools.dates_from_range(\"1959Q1\", \"2009Q3\"))\n",
    "dta.index = index\n",
    "gdp_cycle, gdp_trend = sm.tsa.filters.hpfilter(dta.realgdp)"
   ]
  },
  {
   "cell_type": "code",
   "execution_count": null,
   "metadata": {},
   "outputs": [],
   "source": [
    "dta"
   ]
  },
  {
   "cell_type": "code",
   "execution_count": null,
   "metadata": {},
   "outputs": [],
   "source": [
    "fig = plt.figure(figsize=(12, 8))\n",
    "ax = fig.add_subplot(111)\n",
    "dta.realgdp.plot(ax=ax)\n",
    "legend = ax.legend(loc=\"upper left\")\n",
    "legend.prop.set_size(20)"
   ]
  },
  {
   "cell_type": "code",
   "execution_count": null,
   "metadata": {},
   "outputs": [],
   "source": [
    "gdp_decomp = dta[[\"realgdp\"]].copy()\n",
    "gdp_decomp[\"cycle\"] = gdp_cycle\n",
    "gdp_decomp[\"trend\"] = gdp_trend"
   ]
  },
  {
   "cell_type": "code",
   "execution_count": null,
   "metadata": {},
   "outputs": [],
   "source": [
    "fig = plt.figure(figsize=(12, 8))\n",
    "ax = fig.add_subplot(111)\n",
    "gdp_decomp[[\"trend\", \"realgdp\"]][\"2000-03-31\":].plot(ax=ax, fontsize=16)\n",
    "legend = ax.get_legend()\n",
    "legend.prop.set_size(20)"
   ]
  },
  {
   "cell_type": "code",
   "execution_count": null,
   "metadata": {},
   "outputs": [],
   "source": [
    "gdp_decomp['sum'] = gdp_decomp.cycle + gdp_decomp.trend"
   ]
  },
  {
   "cell_type": "code",
   "execution_count": null,
   "metadata": {},
   "outputs": [],
   "source": [
    "fig = plt.figure(figsize=(12, 8))\n",
    "ax = fig.add_subplot(111)\n",
    "gdp_decomp[[\"sum\", \"realgdp\"]][\"2000-03-31\":].plot(ax=ax, fontsize=16)\n",
    "legend = ax.get_legend()\n",
    "legend.prop.set_size(20)"
   ]
  },
  {
   "cell_type": "markdown",
   "metadata": {},
   "source": [
    "# II. Статистическая Модель для обработки текстов"
   ]
  },
  {
   "cell_type": "markdown",
   "metadata": {},
   "source": [
    "## По набору отзывов о фильмах с известной бинарной оценкой 0/1 (понравился/не понравился) провести предсказание оценок новых отзывов, проведя частотный анализ встречаемости слов в положительных и отрицательных отзывах  \n",
    "\n",
    "<img src=\"../../MFK_project/sem/imdb.jpg\">"
   ]
  },
  {
   "cell_type": "code",
   "execution_count": 2,
   "metadata": {},
   "outputs": [
    {
     "name": "stdout",
     "output_type": "stream",
     "text": [
      "Длина тренировочного набора текстов:  15000\n",
      "Длина тестового набора текстов:  10000\n"
     ]
    }
   ],
   "source": [
    "train_texts =[]\n",
    "train_labels = []\n",
    "\n",
    "test_texts =[]\n",
    "test_labels = []\n",
    "\n",
    "\n",
    "fp_train_texts = open('../../MFK_project/FILIMDB/train.texts','r',encoding='utf-8')\n",
    "for text in fp_train_texts:\n",
    "    train_texts.append(text)\n",
    "    \n",
    "fp_train_labels = open('../../MFK_project/FILIMDB/train.labels','r',encoding='utf-8')\n",
    "for label in fp_train_labels:\n",
    "    train_labels.append(label)\n",
    "    \n",
    "fp_test_texts = open('../../MFK_project/FILIMDB/dev.texts','r',encoding='utf-8')\n",
    "for text in fp_test_texts:\n",
    "    test_texts.append(text)\n",
    "    \n",
    "fp_test_labels = open('../../MFK_project/FILIMDB/dev.labels','r',encoding='utf-8')\n",
    "for label in fp_test_labels:\n",
    "    test_labels.append(label)\n",
    "    \n",
    "    \n",
    "print('Длина тренировочного набора текстов: ', len(train_texts))\n",
    "print('Длина тестового набора текстов: ',len(test_texts))"
   ]
  },
  {
   "cell_type": "markdown",
   "metadata": {},
   "source": [
    "**Задача, с которой мы столкнулись, называется задачей *бинарной классификации*: классификация, потому что нам нужно классифицировать имеющиеся у нас объекты (тексты), а бинарная, потому что мы имеем всего два класса - отрицательный и положительный.**\n",
    "\n",
    "Мы уже знаем приемы, которые позволят нам сделать простейшую модель для решения этой задачи. Предлагается следующий метод ее решения:\n",
    "\n",
    "- Составим словарь предобработанных слов из нашей **коллекции текстов** (в обработке естественного языка термин \"коллекция\"  наиболее часто применяется для обозначения набора текстов)\n",
    "- Каждому слову из словаря припишем вероятность встретить его в негативном или позитивном тексте, посчитав сколько раз мы видели это слово там и там\n",
    "- Посчитаем **априорную вероятнность** встретить текст каждого класса (то есть какое в целом соотношение между позитивными и негативными отзывами)\n",
    "- Придумаем способ, как зная вероятность \"негативности\" или \"позитивности\" каждого слова в тексте сделать вывод о том, какова вероятность \"негативности\" или \"позитивности\" нашего текста в целом\n",
    "- Классифицируем новые тексты и проверим качество\n",
    "\n",
    "Если кратко резюмировать идею, то она состоит в том, что для определения негативного или позитивного текста мы смотрим, сколько \"плохих\" (отвратительный, ужасный, примитивный, банальный, клише, пародия, плагиат и тд.) или \"хороших\" (восхитительный, шедевральный, хорошый, оскар, удовольствие и тд.) мы в нем встретили\n",
    "\n",
    "Итак, поехали!"
   ]
  },
  {
   "cell_type": "code",
   "execution_count": 3,
   "metadata": {},
   "outputs": [
    {
     "name": "stderr",
     "output_type": "stream",
     "text": [
      "[nltk_data] Downloading package wordnet to\n",
      "[nltk_data]     C:\\Users\\Sergei\\AppData\\Roaming\\nltk_data...\n",
      "[nltk_data]   Package wordnet is already up-to-date!\n"
     ]
    }
   ],
   "source": [
    "# Здесь мы создадим функцию предобработки текстов. Это самый стандартный сппособ предобработки, однако,\n",
    "# технологии непосредственной обработки текстов не входят в наш курс, и это задание стоит рассматривать,\n",
    "# как задание на частотный анализ. Будем считать, что нам дана некоторая \"волшебная\" функция preprocess,\n",
    "# которая делает предобработку текстов на том уровне, который нам нужен\n",
    "import nltk\n",
    "from nltk.stem import WordNetLemmatizer\n",
    "nltk.download('wordnet')\n",
    "lemmatizer = WordNetLemmatizer()\n",
    "\n",
    "first_preprocessing = lambda text: text.replace('\\n',' ').replace('«','').replace('»','').replace('.',' ').replace(';','').replace('-','').replace('—',' ').replace('!',' ').replace(',',' ').replace('  ',' ').replace('   ',' ').lower()\n",
    "tokenize_n_lemmatize = lambda text: [lemmatizer.lemmatize(t) for t in first_preprocessing(text).split()]\n",
    "\n",
    "def preprocess(text):\n",
    "    tokenized_text = tokenize_n_lemmatize(text)\n",
    "    while '' in tokenized_text:\n",
    "          tokenized_text.remove('')\n",
    "    return tokenized_text"
   ]
  },
  {
   "cell_type": "code",
   "execution_count": 4,
   "metadata": {},
   "outputs": [
    {
     "data": {
      "text/plain": [
       "'A telephone is a telecommunications device that permits two or more users to conduct a conversation when they are too far apart to be heard directly. A telephone converts sound, typically and most efficiently the human voice, into electronic signals that are transmitted via cables and other communication channels to another telephone which reproduces the sound to the receiving user.'"
      ]
     },
     "execution_count": 4,
     "metadata": {},
     "output_type": "execute_result"
    }
   ],
   "source": [
    "text = 'A telephone is a telecommunications device that permits two or more users to conduct a conversation when they are too far apart to be heard directly. A telephone converts sound, typically and most efficiently the human voice, into electronic signals that are transmitted via cables and other communication channels to another telephone which reproduces the sound to the receiving user.'\n",
    "text"
   ]
  },
  {
   "cell_type": "code",
   "execution_count": 5,
   "metadata": {
    "scrolled": true
   },
   "outputs": [
    {
     "data": {
      "text/plain": [
       "['a',\n",
       " 'telephone',\n",
       " 'is',\n",
       " 'a',\n",
       " 'telecommunication',\n",
       " 'device',\n",
       " 'that',\n",
       " 'permit',\n",
       " 'two',\n",
       " 'or',\n",
       " 'more',\n",
       " 'user',\n",
       " 'to',\n",
       " 'conduct',\n",
       " 'a',\n",
       " 'conversation',\n",
       " 'when',\n",
       " 'they',\n",
       " 'are',\n",
       " 'too',\n",
       " 'far',\n",
       " 'apart',\n",
       " 'to',\n",
       " 'be',\n",
       " 'heard',\n",
       " 'directly',\n",
       " 'a',\n",
       " 'telephone',\n",
       " 'convert',\n",
       " 'sound',\n",
       " 'typically',\n",
       " 'and',\n",
       " 'most',\n",
       " 'efficiently',\n",
       " 'the',\n",
       " 'human',\n",
       " 'voice',\n",
       " 'into',\n",
       " 'electronic',\n",
       " 'signal',\n",
       " 'that',\n",
       " 'are',\n",
       " 'transmitted',\n",
       " 'via',\n",
       " 'cable',\n",
       " 'and',\n",
       " 'other',\n",
       " 'communication',\n",
       " 'channel',\n",
       " 'to',\n",
       " 'another',\n",
       " 'telephone',\n",
       " 'which',\n",
       " 'reproduces',\n",
       " 'the',\n",
       " 'sound',\n",
       " 'to',\n",
       " 'the',\n",
       " 'receiving',\n",
       " 'user']"
      ]
     },
     "execution_count": 5,
     "metadata": {},
     "output_type": "execute_result"
    }
   ],
   "source": [
    "preprocess(text)"
   ]
  },
  {
   "cell_type": "code",
   "execution_count": 6,
   "metadata": {},
   "outputs": [],
   "source": [
    "preprocessed_texts = [preprocess(text) for text in train_texts]"
   ]
  },
  {
   "cell_type": "code",
   "execution_count": 7,
   "metadata": {},
   "outputs": [
    {
     "data": {
      "text/plain": [
       "111963"
      ]
     },
     "execution_count": 7,
     "metadata": {},
     "output_type": "execute_result"
    }
   ],
   "source": [
    "vocabulary = set([]) #Задаем словарь как множество\n",
    "\n",
    "for text in preprocessed_texts: #Заполняем его\n",
    "    vocab_of_text = set(text)\n",
    "    vocabulary = vocabulary.union(vocab_of_text)\n",
    "\n",
    "vocabulary = list(vocabulary) #преобразуем к list\n",
    "\n",
    "len(vocabulary)"
   ]
  },
  {
   "cell_type": "code",
   "execution_count": 8,
   "metadata": {},
   "outputs": [],
   "source": [
    "negative_dict = {word:0 for word in vocabulary}\n",
    "positive_dict = negative_dict.copy()\n",
    "\n",
    "for i,text in enumerate(preprocessed_texts):\n",
    "    target = 0 if train_labels[i] == 'neg\\n' else 1\n",
    "    for word in text:\n",
    "        if target:\n",
    "            positive_dict[word]+=1\n",
    "        else:\n",
    "            negative_dict[word]+=1"
   ]
  },
  {
   "cell_type": "code",
   "execution_count": 9,
   "metadata": {},
   "outputs": [
    {
     "data": {
      "text/plain": [
       "32"
      ]
     },
     "execution_count": 9,
     "metadata": {},
     "output_type": "execute_result"
    }
   ],
   "source": [
    "negative_dict['inexplicably']"
   ]
  },
  {
   "cell_type": "code",
   "execution_count": 10,
   "metadata": {},
   "outputs": [
    {
     "data": {
      "text/plain": [
       "11"
      ]
     },
     "execution_count": 10,
     "metadata": {},
     "output_type": "execute_result"
    }
   ],
   "source": [
    "positive_dict['inexplicably']"
   ]
  },
  {
   "cell_type": "markdown",
   "metadata": {},
   "source": [
    "<img src=\"../../MFK_project/sem/N1.PNG\">\n",
    "\n",
    "Каждому слову припишем теперь некоторый \"ранг\", который определим как $rank(word) = \\frac{P-N}{T}$, где P = positive_dict[word], N = negative_dict[word], а T - это число, равное количеству нахождений слова word всего в текстах.\n",
    "\n",
    "При этом предлагается выкинуть те слова, которые встречаются совсем уж редко. Скажем, что не будем учитывать слова, которые встречаются менее 5 раз."
   ]
  },
  {
   "cell_type": "code",
   "execution_count": 11,
   "metadata": {},
   "outputs": [],
   "source": [
    "P = lambda word: positive_dict[word]\n",
    "N = lambda word: negative_dict[word]\n",
    "T = lambda word: positive_dict[word] + negative_dict[word]\n",
    "rank = lambda word: (P(word) - N(word))/(T(word))\n",
    "rank_dict = { word: 0 if T(word)<5 else rank(word) for word in vocabulary}"
   ]
  },
  {
   "cell_type": "code",
   "execution_count": 12,
   "metadata": {},
   "outputs": [],
   "source": [
    "import pandas as pd\n",
    "worcds_char = pd.DataFrame({'positive' : positive_dict, 'negative' : negative_dict, 'rank' : rank_dict})"
   ]
  },
  {
   "cell_type": "code",
   "execution_count": 13,
   "metadata": {},
   "outputs": [
    {
     "data": {
      "text/html": [
       "<div>\n",
       "<style scoped>\n",
       "    .dataframe tbody tr th:only-of-type {\n",
       "        vertical-align: middle;\n",
       "    }\n",
       "\n",
       "    .dataframe tbody tr th {\n",
       "        vertical-align: top;\n",
       "    }\n",
       "\n",
       "    .dataframe thead th {\n",
       "        text-align: right;\n",
       "    }\n",
       "</style>\n",
       "<table border=\"1\" class=\"dataframe\">\n",
       "  <thead>\n",
       "    <tr style=\"text-align: right;\">\n",
       "      <th></th>\n",
       "      <th>positive</th>\n",
       "      <th>negative</th>\n",
       "      <th>rank</th>\n",
       "    </tr>\n",
       "  </thead>\n",
       "  <tbody>\n",
       "    <tr>\n",
       "      <th>confirmation</th>\n",
       "      <td>2</td>\n",
       "      <td>3</td>\n",
       "      <td>-0.2</td>\n",
       "    </tr>\n",
       "    <tr>\n",
       "      <th>\"smokey</th>\n",
       "      <td>0</td>\n",
       "      <td>1</td>\n",
       "      <td>0.0</td>\n",
       "    </tr>\n",
       "    <tr>\n",
       "      <th>makhmalbaf's</th>\n",
       "      <td>2</td>\n",
       "      <td>1</td>\n",
       "      <td>0.0</td>\n",
       "    </tr>\n",
       "    <tr>\n",
       "      <th>eightyfive</th>\n",
       "      <td>0</td>\n",
       "      <td>2</td>\n",
       "      <td>0.0</td>\n",
       "    </tr>\n",
       "    <tr>\n",
       "      <th>'whistler'</th>\n",
       "      <td>2</td>\n",
       "      <td>0</td>\n",
       "      <td>0.0</td>\n",
       "    </tr>\n",
       "    <tr>\n",
       "      <th>...</th>\n",
       "      <td>...</td>\n",
       "      <td>...</td>\n",
       "      <td>...</td>\n",
       "    </tr>\n",
       "    <tr>\n",
       "      <th>developer's</th>\n",
       "      <td>1</td>\n",
       "      <td>0</td>\n",
       "      <td>0.0</td>\n",
       "    </tr>\n",
       "    <tr>\n",
       "      <th>stillborn</th>\n",
       "      <td>1</td>\n",
       "      <td>3</td>\n",
       "      <td>0.0</td>\n",
       "    </tr>\n",
       "    <tr>\n",
       "      <th>(understandably)</th>\n",
       "      <td>0</td>\n",
       "      <td>3</td>\n",
       "      <td>0.0</td>\n",
       "    </tr>\n",
       "    <tr>\n",
       "      <th>(church</th>\n",
       "      <td>1</td>\n",
       "      <td>0</td>\n",
       "      <td>0.0</td>\n",
       "    </tr>\n",
       "    <tr>\n",
       "      <th>tourist\"</th>\n",
       "      <td>1</td>\n",
       "      <td>0</td>\n",
       "      <td>0.0</td>\n",
       "    </tr>\n",
       "  </tbody>\n",
       "</table>\n",
       "<p>111963 rows × 3 columns</p>\n",
       "</div>"
      ],
      "text/plain": [
       "                  positive  negative  rank\n",
       "confirmation             2         3  -0.2\n",
       "\"smokey                  0         1   0.0\n",
       "makhmalbaf's             2         1   0.0\n",
       "eightyfive               0         2   0.0\n",
       "'whistler'               2         0   0.0\n",
       "...                    ...       ...   ...\n",
       "developer's              1         0   0.0\n",
       "stillborn                1         3   0.0\n",
       "(understandably)         0         3   0.0\n",
       "(church                  1         0   0.0\n",
       "tourist\"                 1         0   0.0\n",
       "\n",
       "[111963 rows x 3 columns]"
      ]
     },
     "execution_count": 13,
     "metadata": {},
     "output_type": "execute_result"
    }
   ],
   "source": [
    "worcds_char"
   ]
  },
  {
   "cell_type": "code",
   "execution_count": 14,
   "metadata": {},
   "outputs": [
    {
     "data": {
      "text/html": [
       "<div>\n",
       "<style scoped>\n",
       "    .dataframe tbody tr th:only-of-type {\n",
       "        vertical-align: middle;\n",
       "    }\n",
       "\n",
       "    .dataframe tbody tr th {\n",
       "        vertical-align: top;\n",
       "    }\n",
       "\n",
       "    .dataframe thead th {\n",
       "        text-align: right;\n",
       "    }\n",
       "</style>\n",
       "<table border=\"1\" class=\"dataframe\">\n",
       "  <thead>\n",
       "    <tr style=\"text-align: right;\">\n",
       "      <th></th>\n",
       "      <th>positive</th>\n",
       "      <th>negative</th>\n",
       "      <th>rank</th>\n",
       "    </tr>\n",
       "  </thead>\n",
       "  <tbody>\n",
       "    <tr>\n",
       "      <th>count</th>\n",
       "      <td>111963.000000</td>\n",
       "      <td>111963.000000</td>\n",
       "      <td>111963.000000</td>\n",
       "    </tr>\n",
       "    <tr>\n",
       "      <th>mean</th>\n",
       "      <td>16.200084</td>\n",
       "      <td>15.709118</td>\n",
       "      <td>0.011490</td>\n",
       "    </tr>\n",
       "    <tr>\n",
       "      <th>std</th>\n",
       "      <td>508.287884</td>\n",
       "      <td>477.490819</td>\n",
       "      <td>0.221828</td>\n",
       "    </tr>\n",
       "    <tr>\n",
       "      <th>min</th>\n",
       "      <td>0.000000</td>\n",
       "      <td>0.000000</td>\n",
       "      <td>-1.000000</td>\n",
       "    </tr>\n",
       "    <tr>\n",
       "      <th>25%</th>\n",
       "      <td>0.000000</td>\n",
       "      <td>0.000000</td>\n",
       "      <td>0.000000</td>\n",
       "    </tr>\n",
       "    <tr>\n",
       "      <th>50%</th>\n",
       "      <td>1.000000</td>\n",
       "      <td>1.000000</td>\n",
       "      <td>0.000000</td>\n",
       "    </tr>\n",
       "    <tr>\n",
       "      <th>75%</th>\n",
       "      <td>2.000000</td>\n",
       "      <td>2.000000</td>\n",
       "      <td>0.000000</td>\n",
       "    </tr>\n",
       "    <tr>\n",
       "      <th>max</th>\n",
       "      <td>101165.000000</td>\n",
       "      <td>95146.000000</td>\n",
       "      <td>1.000000</td>\n",
       "    </tr>\n",
       "  </tbody>\n",
       "</table>\n",
       "</div>"
      ],
      "text/plain": [
       "            positive       negative           rank\n",
       "count  111963.000000  111963.000000  111963.000000\n",
       "mean       16.200084      15.709118       0.011490\n",
       "std       508.287884     477.490819       0.221828\n",
       "min         0.000000       0.000000      -1.000000\n",
       "25%         0.000000       0.000000       0.000000\n",
       "50%         1.000000       1.000000       0.000000\n",
       "75%         2.000000       2.000000       0.000000\n",
       "max    101165.000000   95146.000000       1.000000"
      ]
     },
     "execution_count": 14,
     "metadata": {},
     "output_type": "execute_result"
    }
   ],
   "source": [
    "worcds_char.describe()"
   ]
  },
  {
   "cell_type": "code",
   "execution_count": 15,
   "metadata": {},
   "outputs": [],
   "source": [
    "worcds_char['occ'] = worcds_char['positive'] + worcds_char['negative']"
   ]
  },
  {
   "cell_type": "code",
   "execution_count": 16,
   "metadata": {},
   "outputs": [
    {
     "data": {
      "text/plain": [
       "(24504, 4)"
      ]
     },
     "execution_count": 16,
     "metadata": {},
     "output_type": "execute_result"
    }
   ],
   "source": [
    "worcds_char.query('occ >= 5').shape"
   ]
  },
  {
   "cell_type": "code",
   "execution_count": 18,
   "metadata": {},
   "outputs": [
    {
     "data": {
      "text/html": [
       "<div>\n",
       "<style scoped>\n",
       "    .dataframe tbody tr th:only-of-type {\n",
       "        vertical-align: middle;\n",
       "    }\n",
       "\n",
       "    .dataframe tbody tr th {\n",
       "        vertical-align: top;\n",
       "    }\n",
       "\n",
       "    .dataframe thead th {\n",
       "        text-align: right;\n",
       "    }\n",
       "</style>\n",
       "<table border=\"1\" class=\"dataframe\">\n",
       "  <thead>\n",
       "    <tr style=\"text-align: right;\">\n",
       "      <th></th>\n",
       "      <th>positive</th>\n",
       "      <th>negative</th>\n",
       "      <th>rank</th>\n",
       "      <th>occ</th>\n",
       "    </tr>\n",
       "  </thead>\n",
       "  <tbody>\n",
       "    <tr>\n",
       "      <th>count</th>\n",
       "      <td>24504.000000</td>\n",
       "      <td>24504.000000</td>\n",
       "      <td>24504.000000</td>\n",
       "      <td>24504.000000</td>\n",
       "    </tr>\n",
       "    <tr>\n",
       "      <th>mean</th>\n",
       "      <td>71.389365</td>\n",
       "      <td>69.219923</td>\n",
       "      <td>0.052500</td>\n",
       "      <td>140.609288</td>\n",
       "    </tr>\n",
       "    <tr>\n",
       "      <th>std</th>\n",
       "      <td>1084.717330</td>\n",
       "      <td>1018.884203</td>\n",
       "      <td>0.471904</td>\n",
       "      <td>2100.740502</td>\n",
       "    </tr>\n",
       "    <tr>\n",
       "      <th>min</th>\n",
       "      <td>0.000000</td>\n",
       "      <td>0.000000</td>\n",
       "      <td>-1.000000</td>\n",
       "      <td>5.000000</td>\n",
       "    </tr>\n",
       "    <tr>\n",
       "      <th>25%</th>\n",
       "      <td>4.000000</td>\n",
       "      <td>3.000000</td>\n",
       "      <td>-0.246696</td>\n",
       "      <td>7.000000</td>\n",
       "    </tr>\n",
       "    <tr>\n",
       "      <th>50%</th>\n",
       "      <td>7.000000</td>\n",
       "      <td>6.000000</td>\n",
       "      <td>0.058824</td>\n",
       "      <td>13.000000</td>\n",
       "    </tr>\n",
       "    <tr>\n",
       "      <th>75%</th>\n",
       "      <td>18.000000</td>\n",
       "      <td>16.000000</td>\n",
       "      <td>0.333333</td>\n",
       "      <td>35.000000</td>\n",
       "    </tr>\n",
       "    <tr>\n",
       "      <th>max</th>\n",
       "      <td>101165.000000</td>\n",
       "      <td>95146.000000</td>\n",
       "      <td>1.000000</td>\n",
       "      <td>196311.000000</td>\n",
       "    </tr>\n",
       "  </tbody>\n",
       "</table>\n",
       "</div>"
      ],
      "text/plain": [
       "            positive      negative          rank            occ\n",
       "count   24504.000000  24504.000000  24504.000000   24504.000000\n",
       "mean       71.389365     69.219923      0.052500     140.609288\n",
       "std      1084.717330   1018.884203      0.471904    2100.740502\n",
       "min         0.000000      0.000000     -1.000000       5.000000\n",
       "25%         4.000000      3.000000     -0.246696       7.000000\n",
       "50%         7.000000      6.000000      0.058824      13.000000\n",
       "75%        18.000000     16.000000      0.333333      35.000000\n",
       "max    101165.000000  95146.000000      1.000000  196311.000000"
      ]
     },
     "execution_count": 18,
     "metadata": {},
     "output_type": "execute_result"
    }
   ],
   "source": [
    "worcds_char.query('occ >= 5').describe()"
   ]
  },
  {
   "cell_type": "markdown",
   "metadata": {},
   "source": [
    "### Теперь для анализа новых текстов применим очень простую идею:\n",
    "\n",
    "Сложим ранги всех слов, присутствующих в текстах и по знаку получившегося выражения будем делать выводы о негативности или позитивности текста в целом. Учтем, что в новых текстах могут встретиться новые слова. Словам, о которых мы еще ничего не знаем, будем давть ранг 0\n",
    "\n",
    "<img src=\"../../MFK_project/ranks.PNG\">"
   ]
  },
  {
   "cell_type": "code",
   "execution_count": 19,
   "metadata": {},
   "outputs": [],
   "source": [
    "preprocessed_test_texts = [preprocess(text) for text in test_texts]"
   ]
  },
  {
   "cell_type": "code",
   "execution_count": 20,
   "metadata": {},
   "outputs": [],
   "source": [
    "rank_new = lambda word: rank(word) if word in vocabulary else 0\n",
    "decision = lambda text: 1 if sum([rank_new(word) for word in text]) > 0 else 0"
   ]
  },
  {
   "cell_type": "code",
   "execution_count": 21,
   "metadata": {},
   "outputs": [
    {
     "data": {
      "text/plain": [
       "0"
      ]
     },
     "execution_count": 21,
     "metadata": {},
     "output_type": "execute_result"
    }
   ],
   "source": [
    "decision(preprocessed_test_texts[0])"
   ]
  },
  {
   "cell_type": "code",
   "execution_count": 22,
   "metadata": {},
   "outputs": [
    {
     "data": {
      "text/plain": [
       "\"First of all, I have to say I have worked for blockbuster and have seen quite a few movies to the point its tough for me to find something I haven't seen. Taking this into account, I want everyone to know that this movie was by far the worst film ever made, it made me pine for Gigli, My Boss's Daughter, and any other piece of junk you've ever seen. BeLyt must be out of his mind, I've only found one person who liked it and even they couldn't tell me what the movie was about. If you are able to decipher this movie and are able to tell me what it was about you have to either be the writer or a fortune teller because there's any other way a person could figure this crap out.<br /><br />FOR THE LOVE OF G-D STAY AWAY!\\n\""
      ]
     },
     "execution_count": 22,
     "metadata": {},
     "output_type": "execute_result"
    }
   ],
   "source": [
    "test_texts[0]"
   ]
  },
  {
   "cell_type": "code",
   "execution_count": 23,
   "metadata": {},
   "outputs": [
    {
     "data": {
      "text/plain": [
       "'neg\\n'"
      ]
     },
     "execution_count": 23,
     "metadata": {},
     "output_type": "execute_result"
    }
   ],
   "source": [
    "test_labels[0] # настоящий ответ"
   ]
  },
  {
   "cell_type": "markdown",
   "metadata": {},
   "source": [
    "Посмотрим какую часть из классифицируемых текстов он оценит правильно. Эта метрика называется accuracy\n",
    "\n",
    "Замечание:\n",
    "Проверка всех 10000 текстов займет большое время выполнения. Поэтому мы выберем 500 случайных из них и оценим алгоритм на них"
   ]
  },
  {
   "cell_type": "code",
   "execution_count": 25,
   "metadata": {},
   "outputs": [
    {
     "data": {
      "text/plain": [
       "array([ 894, 1625, 9470, 3762, 8807,  858, 2826, 1458, 7255, 4104, 1092,\n",
       "       7130, 7034, 6507, 7176, 6939, 7645, 9657,  653, 1074, 1716, 3414,\n",
       "       5731, 7259,  946, 8966,  767, 8697, 1960,  441, 1603, 2505, 1300,\n",
       "       4897,  599, 7293, 5849, 6753, 6806, 5812, 4306, 6840, 1541, 4401,\n",
       "       8476, 6878, 4044, 4004, 9976, 9846, 1050, 6872, 7450, 5807, 7528,\n",
       "       3769, 2975, 5784, 1971, 6214, 8184, 4874, 4145,  822, 5623,  265,\n",
       "       9016, 5860, 8199, 3450, 8309, 8690, 8176, 4124, 6997, 6019, 7172,\n",
       "       4900, 9276, 5396, 5550, 8279, 3260, 6879, 8376, 3773, 6565, 9594,\n",
       "       9551, 3404, 6961, 8191,  875, 4107, 2762, 7345, 3600, 9914, 4918,\n",
       "       2264])"
      ]
     },
     "execution_count": 25,
     "metadata": {},
     "output_type": "execute_result"
    }
   ],
   "source": [
    "import numpy as np\n",
    "\n",
    "set_of_indexes = np.arange(0,10001,1)\n",
    "indexes = np.random.choice(set_of_indexes,100, False)\n",
    "indexes"
   ]
  },
  {
   "cell_type": "code",
   "execution_count": 26,
   "metadata": {},
   "outputs": [],
   "source": [
    "texts = [preprocessed_test_texts[j] for j in indexes]"
   ]
  },
  {
   "cell_type": "code",
   "execution_count": 27,
   "metadata": {},
   "outputs": [
    {
     "name": "stdout",
     "output_type": "stream",
     "text": [
      "Текст номер 0: \n",
      " Ответ алгоритма: 0, метка текста: 0 \n",
      "Текущая точность: 1.0\n",
      "\n",
      "\n",
      "Текст номер 1: \n",
      " Ответ алгоритма: 1, метка текста: 0 \n",
      "Текущая точность: 0.5\n",
      "\n",
      "\n",
      "Текст номер 2: \n",
      " Ответ алгоритма: 0, метка текста: 0 \n",
      "Текущая точность: 0.6666666666666666\n",
      "\n",
      "\n",
      "Текст номер 3: \n",
      " Ответ алгоритма: 1, метка текста: 0 \n",
      "Текущая точность: 0.5\n",
      "\n",
      "\n",
      "Текст номер 4: \n",
      " Ответ алгоритма: 0, метка текста: 0 \n",
      "Текущая точность: 0.6\n",
      "\n",
      "\n",
      "Текст номер 5: \n",
      " Ответ алгоритма: 0, метка текста: 0 \n",
      "Текущая точность: 0.6666666666666666\n",
      "\n",
      "\n",
      "Текст номер 6: \n",
      " Ответ алгоритма: 0, метка текста: 0 \n",
      "Текущая точность: 0.7142857142857143\n",
      "\n",
      "\n",
      "Текст номер 7: \n",
      " Ответ алгоритма: 1, метка текста: 1 \n",
      "Текущая точность: 0.75\n",
      "\n",
      "\n",
      "Текст номер 8: \n",
      " Ответ алгоритма: 1, метка текста: 0 \n",
      "Текущая точность: 0.6666666666666666\n",
      "\n",
      "\n",
      "Текст номер 9: \n",
      " Ответ алгоритма: 0, метка текста: 0 \n",
      "Текущая точность: 0.7\n",
      "\n",
      "\n",
      "Текст номер 10: \n",
      " Ответ алгоритма: 0, метка текста: 0 \n",
      "Текущая точность: 0.7272727272727273\n",
      "\n",
      "\n",
      "Текст номер 11: \n",
      " Ответ алгоритма: 1, метка текста: 1 \n",
      "Текущая точность: 0.75\n",
      "\n",
      "\n",
      "Текст номер 12: \n",
      " Ответ алгоритма: 1, метка текста: 0 \n",
      "Текущая точность: 0.6923076923076923\n",
      "\n",
      "\n",
      "Текст номер 13: \n",
      " Ответ алгоритма: 0, метка текста: 0 \n",
      "Текущая точность: 0.7142857142857143\n",
      "\n",
      "\n",
      "Текст номер 14: \n",
      " Ответ алгоритма: 1, метка текста: 1 \n",
      "Текущая точность: 0.7333333333333333\n",
      "\n",
      "\n",
      "Текст номер 15: \n",
      " Ответ алгоритма: 0, метка текста: 0 \n",
      "Текущая точность: 0.75\n",
      "\n",
      "\n",
      "Текст номер 16: \n",
      " Ответ алгоритма: 0, метка текста: 0 \n",
      "Текущая точность: 0.7647058823529411\n",
      "\n",
      "\n",
      "Текст номер 17: \n",
      " Ответ алгоритма: 1, метка текста: 1 \n",
      "Текущая точность: 0.7777777777777778\n",
      "\n",
      "\n",
      "Текст номер 18: \n",
      " Ответ алгоритма: 0, метка текста: 0 \n",
      "Текущая точность: 0.7894736842105263\n",
      "\n",
      "\n",
      "Текст номер 19: \n",
      " Ответ алгоритма: 0, метка текста: 0 \n",
      "Текущая точность: 0.8\n",
      "\n",
      "\n",
      "Текст номер 20: \n",
      " Ответ алгоритма: 1, метка текста: 1 \n",
      "Текущая точность: 0.8095238095238095\n",
      "\n",
      "\n",
      "Текст номер 21: \n",
      " Ответ алгоритма: 0, метка текста: 0 \n",
      "Текущая точность: 0.8181818181818182\n",
      "\n",
      "\n",
      "Текст номер 22: \n",
      " Ответ алгоритма: 0, метка текста: 0 \n",
      "Текущая точность: 0.8260869565217391\n",
      "\n",
      "\n",
      "Текст номер 23: \n",
      " Ответ алгоритма: 1, метка текста: 0 \n",
      "Текущая точность: 0.7916666666666666\n",
      "\n",
      "\n",
      "Текст номер 24: \n",
      " Ответ алгоритма: 0, метка текста: 0 \n",
      "Текущая точность: 0.8\n",
      "\n",
      "\n",
      "Текст номер 25: \n",
      " Ответ алгоритма: 1, метка текста: 1 \n",
      "Текущая точность: 0.8076923076923077\n",
      "\n",
      "\n",
      "Текст номер 26: \n",
      " Ответ алгоритма: 0, метка текста: 0 \n",
      "Текущая точность: 0.8148148148148148\n",
      "\n",
      "\n",
      "Текст номер 27: \n",
      " Ответ алгоритма: 0, метка текста: 0 \n",
      "Текущая точность: 0.8214285714285714\n",
      "\n",
      "\n",
      "Текст номер 28: \n",
      " Ответ алгоритма: 0, метка текста: 0 \n",
      "Текущая точность: 0.8275862068965517\n",
      "\n",
      "\n",
      "Текст номер 29: \n",
      " Ответ алгоритма: 0, метка текста: 0 \n",
      "Текущая точность: 0.8333333333333334\n",
      "\n",
      "\n",
      "Текст номер 30: \n",
      " Ответ алгоритма: 0, метка текста: 1 \n",
      "Текущая точность: 0.8064516129032258\n",
      "\n",
      "\n",
      "Текст номер 31: \n",
      " Ответ алгоритма: 1, метка текста: 1 \n",
      "Текущая точность: 0.8125\n",
      "\n",
      "\n",
      "Текст номер 32: \n",
      " Ответ алгоритма: 1, метка текста: 1 \n",
      "Текущая точность: 0.8181818181818182\n",
      "\n",
      "\n",
      "Текст номер 33: \n",
      " Ответ алгоритма: 0, метка текста: 0 \n",
      "Текущая точность: 0.8235294117647058\n",
      "\n",
      "\n",
      "Текст номер 34: \n",
      " Ответ алгоритма: 0, метка текста: 0 \n",
      "Текущая точность: 0.8285714285714286\n",
      "\n",
      "\n",
      "Текст номер 35: \n",
      " Ответ алгоритма: 0, метка текста: 0 \n",
      "Текущая точность: 0.8333333333333334\n",
      "\n",
      "\n",
      "Текст номер 36: \n",
      " Ответ алгоритма: 0, метка текста: 0 \n",
      "Текущая точность: 0.8378378378378378\n",
      "\n",
      "\n",
      "Текст номер 37: \n",
      " Ответ алгоритма: 0, метка текста: 1 \n",
      "Текущая точность: 0.8157894736842105\n",
      "\n",
      "\n",
      "Текст номер 38: \n",
      " Ответ алгоритма: 0, метка текста: 0 \n",
      "Текущая точность: 0.8205128205128205\n",
      "\n",
      "\n",
      "Текст номер 39: \n",
      " Ответ алгоритма: 1, метка текста: 0 \n",
      "Текущая точность: 0.8\n",
      "\n",
      "\n",
      "Текст номер 40: \n",
      " Ответ алгоритма: 0, метка текста: 0 \n",
      "Текущая точность: 0.8048780487804879\n",
      "\n",
      "\n",
      "Текст номер 41: \n",
      " Ответ алгоритма: 1, метка текста: 1 \n",
      "Текущая точность: 0.8095238095238095\n",
      "\n",
      "\n",
      "Текст номер 42: \n",
      " Ответ алгоритма: 0, метка текста: 0 \n",
      "Текущая точность: 0.813953488372093\n",
      "\n",
      "\n",
      "Текст номер 43: \n",
      " Ответ алгоритма: 1, метка текста: 1 \n",
      "Текущая точность: 0.8181818181818182\n",
      "\n",
      "\n",
      "Текст номер 44: \n",
      " Ответ алгоритма: 0, метка текста: 0 \n",
      "Текущая точность: 0.8222222222222222\n",
      "\n",
      "\n",
      "Текст номер 45: \n",
      " Ответ алгоритма: 0, метка текста: 0 \n",
      "Текущая точность: 0.8260869565217391\n",
      "\n",
      "\n",
      "Текст номер 46: \n",
      " Ответ алгоритма: 1, метка текста: 1 \n",
      "Текущая точность: 0.8297872340425532\n",
      "\n",
      "\n",
      "Текст номер 47: \n",
      " Ответ алгоритма: 0, метка текста: 0 \n",
      "Текущая точность: 0.8333333333333334\n",
      "\n",
      "\n",
      "Текст номер 48: \n",
      " Ответ алгоритма: 1, метка текста: 1 \n",
      "Текущая точность: 0.8367346938775511\n",
      "\n",
      "\n",
      "Текст номер 49: \n",
      " Ответ алгоритма: 0, метка текста: 1 \n",
      "Текущая точность: 0.82\n",
      "\n",
      "\n",
      "Текст номер 50: \n",
      " Ответ алгоритма: 0, метка текста: 0 \n",
      "Текущая точность: 0.8235294117647058\n",
      "\n",
      "\n",
      "Текст номер 51: \n",
      " Ответ алгоритма: 0, метка текста: 0 \n",
      "Текущая точность: 0.8269230769230769\n",
      "\n",
      "\n",
      "Текст номер 52: \n",
      " Ответ алгоритма: 0, метка текста: 0 \n",
      "Текущая точность: 0.8301886792452831\n",
      "\n",
      "\n",
      "Текст номер 53: \n",
      " Ответ алгоритма: 0, метка текста: 0 \n",
      "Текущая точность: 0.8333333333333334\n",
      "\n",
      "\n",
      "Текст номер 54: \n",
      " Ответ алгоритма: 0, метка текста: 0 \n",
      "Текущая точность: 0.8363636363636363\n",
      "\n",
      "\n",
      "Текст номер 55: \n",
      " Ответ алгоритма: 1, метка текста: 1 \n",
      "Текущая точность: 0.8392857142857143\n",
      "\n",
      "\n",
      "Текст номер 56: \n",
      " Ответ алгоритма: 1, метка текста: 1 \n",
      "Текущая точность: 0.8421052631578947\n",
      "\n",
      "\n",
      "Текст номер 57: \n",
      " Ответ алгоритма: 1, метка текста: 1 \n",
      "Текущая точность: 0.8448275862068966\n",
      "\n",
      "\n",
      "Текст номер 58: \n",
      " Ответ алгоритма: 0, метка текста: 0 \n",
      "Текущая точность: 0.847457627118644\n",
      "\n",
      "\n",
      "Текст номер 59: \n",
      " Ответ алгоритма: 1, метка текста: 1 \n",
      "Текущая точность: 0.85\n",
      "\n",
      "\n",
      "Текст номер 60: \n",
      " Ответ алгоритма: 1, метка текста: 1 \n",
      "Текущая точность: 0.8524590163934426\n",
      "\n",
      "\n",
      "Текст номер 61: \n",
      " Ответ алгоритма: 0, метка текста: 0 \n",
      "Текущая точность: 0.8548387096774194\n",
      "\n",
      "\n",
      "Текст номер 62: \n",
      " Ответ алгоритма: 1, метка текста: 1 \n",
      "Текущая точность: 0.8571428571428571\n",
      "\n",
      "\n",
      "Текст номер 63: \n",
      " Ответ алгоритма: 1, метка текста: 0 \n",
      "Текущая точность: 0.84375\n",
      "\n",
      "\n",
      "Текст номер 64: \n",
      " Ответ алгоритма: 1, метка текста: 0 \n",
      "Текущая точность: 0.8307692307692308\n",
      "\n",
      "\n",
      "Текст номер 65: \n",
      " Ответ алгоритма: 0, метка текста: 0 \n",
      "Текущая точность: 0.8333333333333334\n",
      "\n",
      "\n",
      "Текст номер 66: \n",
      " Ответ алгоритма: 1, метка текста: 1 \n",
      "Текущая точность: 0.835820895522388\n",
      "\n",
      "\n",
      "Текст номер 67: \n",
      " Ответ алгоритма: 1, метка текста: 0 \n",
      "Текущая точность: 0.8235294117647058\n",
      "\n",
      "\n",
      "Текст номер 68: \n",
      " Ответ алгоритма: 1, метка текста: 0 \n",
      "Текущая точность: 0.8115942028985508\n",
      "\n",
      "\n",
      "Текст номер 69: \n",
      " Ответ алгоритма: 1, метка текста: 0 \n",
      "Текущая точность: 0.8\n",
      "\n",
      "\n",
      "Текст номер 70: \n",
      " Ответ алгоритма: 1, метка текста: 1 \n",
      "Текущая точность: 0.8028169014084507\n",
      "\n",
      "\n",
      "Текст номер 71: \n",
      " Ответ алгоритма: 1, метка текста: 1 \n",
      "Текущая точность: 0.8055555555555556\n",
      "\n",
      "\n",
      "Текст номер 72: \n",
      " Ответ алгоритма: 1, метка текста: 0 \n",
      "Текущая точность: 0.7945205479452054\n",
      "\n",
      "\n",
      "Текст номер 73: \n",
      " Ответ алгоритма: 1, метка текста: 1 \n",
      "Текущая точность: 0.7972972972972973\n",
      "\n",
      "\n",
      "Текст номер 74: \n",
      " Ответ алгоритма: 0, метка текста: 0 \n",
      "Текущая точность: 0.8\n",
      "\n",
      "\n",
      "Текст номер 75: \n",
      " Ответ алгоритма: 1, метка текста: 0 \n",
      "Текущая точность: 0.7894736842105263\n",
      "\n",
      "\n",
      "Текст номер 76: \n",
      " Ответ алгоритма: 1, метка текста: 1 \n",
      "Текущая точность: 0.7922077922077922\n",
      "\n",
      "\n",
      "Текст номер 77: \n",
      " Ответ алгоритма: 1, метка текста: 1 \n",
      "Текущая точность: 0.7948717948717948\n",
      "\n",
      "\n",
      "Текст номер 78: \n",
      " Ответ алгоритма: 1, метка текста: 1 \n",
      "Текущая точность: 0.7974683544303798\n",
      "\n",
      "\n",
      "Текст номер 79: \n",
      " Ответ алгоритма: 1, метка текста: 1 \n",
      "Текущая точность: 0.8\n",
      "\n",
      "\n",
      "Текст номер 80: \n",
      " Ответ алгоритма: 0, метка текста: 1 \n",
      "Текущая точность: 0.7901234567901234\n",
      "\n",
      "\n",
      "Текст номер 81: \n",
      " Ответ алгоритма: 1, метка текста: 1 \n",
      "Текущая точность: 0.7926829268292683\n",
      "\n",
      "\n",
      "Текст номер 82: \n",
      " Ответ алгоритма: 0, метка текста: 0 \n",
      "Текущая точность: 0.7951807228915663\n",
      "\n",
      "\n",
      "Текст номер 83: \n",
      " Ответ алгоритма: 1, метка текста: 1 \n",
      "Текущая точность: 0.7976190476190477\n",
      "\n",
      "\n",
      "Текст номер 84: \n",
      " Ответ алгоритма: 1, метка текста: 1 \n",
      "Текущая точность: 0.8\n",
      "\n",
      "\n",
      "Текст номер 85: \n",
      " Ответ алгоритма: 1, метка текста: 1 \n",
      "Текущая точность: 0.8023255813953488\n",
      "\n",
      "\n",
      "Текст номер 86: \n",
      " Ответ алгоритма: 1, метка текста: 1 \n",
      "Текущая точность: 0.8045977011494253\n",
      "\n",
      "\n",
      "Текст номер 87: \n",
      " Ответ алгоритма: 1, метка текста: 1 \n",
      "Текущая точность: 0.8068181818181818\n",
      "\n",
      "\n",
      "Текст номер 88: \n",
      " Ответ алгоритма: 1, метка текста: 0 \n",
      "Текущая точность: 0.797752808988764\n",
      "\n",
      "\n",
      "Текст номер 89: \n",
      " Ответ алгоритма: 1, метка текста: 1 \n",
      "Текущая точность: 0.8\n",
      "\n",
      "\n",
      "Текст номер 90: \n",
      " Ответ алгоритма: 1, метка текста: 0 \n",
      "Текущая точность: 0.7912087912087912\n",
      "\n",
      "\n"
     ]
    },
    {
     "name": "stdout",
     "output_type": "stream",
     "text": [
      "Текст номер 91: \n",
      " Ответ алгоритма: 1, метка текста: 1 \n",
      "Текущая точность: 0.7934782608695652\n",
      "\n",
      "\n",
      "Текст номер 92: \n",
      " Ответ алгоритма: 0, метка текста: 0 \n",
      "Текущая точность: 0.7956989247311828\n",
      "\n",
      "\n",
      "Текст номер 93: \n",
      " Ответ алгоритма: 1, метка текста: 0 \n",
      "Текущая точность: 0.7872340425531915\n",
      "\n",
      "\n",
      "Текст номер 94: \n",
      " Ответ алгоритма: 1, метка текста: 1 \n",
      "Текущая точность: 0.7894736842105263\n",
      "\n",
      "\n",
      "Текст номер 95: \n",
      " Ответ алгоритма: 0, метка текста: 0 \n",
      "Текущая точность: 0.7916666666666666\n",
      "\n",
      "\n",
      "Текст номер 96: \n",
      " Ответ алгоритма: 1, метка текста: 0 \n",
      "Текущая точность: 0.7835051546391752\n",
      "\n",
      "\n",
      "Текст номер 97: \n",
      " Ответ алгоритма: 1, метка текста: 1 \n",
      "Текущая точность: 0.7857142857142857\n",
      "\n",
      "\n",
      "Текст номер 98: \n",
      " Ответ алгоритма: 0, метка текста: 0 \n",
      "Текущая точность: 0.7878787878787878\n",
      "\n",
      "\n",
      "Текст номер 99: \n",
      " Ответ алгоритма: 0, метка текста: 0 \n",
      "Текущая точность: 0.79\n",
      "\n",
      "\n"
     ]
    }
   ],
   "source": [
    "label_to_int = lambda label: 0 if label == 'neg\\n' else 1\n",
    "accuracy  = 0\n",
    "\n",
    "\n",
    "\n",
    "for i,text in enumerate(texts):\n",
    "    dec = decision(text)\n",
    "    label = label_to_int(test_labels[indexes[i]])\n",
    "    \n",
    "    if dec == label:\n",
    "        accuracy+=1\n",
    "    try:\n",
    "        print(f'Текст номер {i}: \\n Ответ алгоритма: {dec}, метка текста: {label} \\nТекущая точность: {accuracy/(i+1)}\\n\\n')\n",
    "    except:\n",
    "        continue\n",
    "\n",
    "accuracy/=500"
   ]
  },
  {
   "cell_type": "code",
   "execution_count": null,
   "metadata": {},
   "outputs": [],
   "source": [
    "accuracy = accuracy/246"
   ]
  },
  {
   "cell_type": "code",
   "execution_count": null,
   "metadata": {},
   "outputs": [],
   "source": [
    "accuracy"
   ]
  },
  {
   "cell_type": "code",
   "execution_count": null,
   "metadata": {},
   "outputs": [],
   "source": []
  }
 ],
 "metadata": {
  "kernelspec": {
   "display_name": "Python 3 (ipykernel)",
   "language": "python",
   "name": "python3"
  },
  "language_info": {
   "codemirror_mode": {
    "name": "ipython",
    "version": 3
   },
   "file_extension": ".py",
   "mimetype": "text/x-python",
   "name": "python",
   "nbconvert_exporter": "python",
   "pygments_lexer": "ipython3",
   "version": "3.11.7"
  }
 },
 "nbformat": 4,
 "nbformat_minor": 4
}
