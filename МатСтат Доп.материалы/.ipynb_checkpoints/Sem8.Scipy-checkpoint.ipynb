{
 "cells": [
  {
   "cell_type": "markdown",
   "metadata": {},
   "source": [
    "## SciPy — библиотека для языка программирования Python с открытым исходным кодом, предназначенная для выполнения научных и инженерных расчётов."
   ]
  },
  {
   "cell_type": "markdown",
   "metadata": {},
   "source": [
    "<img src=\"../scipy.jpg\">"
   ]
  },
  {
   "cell_type": "code",
   "execution_count": 1,
   "metadata": {},
   "outputs": [],
   "source": [
    "import scipy\n",
    "import scipy.stats as sps"
   ]
  },
  {
   "cell_type": "markdown",
   "metadata": {},
   "source": [
    "### I.Работа с распределениями"
   ]
  },
  {
   "cell_type": "code",
   "execution_count": 2,
   "metadata": {},
   "outputs": [],
   "source": [
    "\"\"\"\n",
    "X(params).rvs(size=N) — генерация выборки размера  N  (Random VariateS). Возвращает numpy.array;\n",
    "Рассмотрим на примере sps.norm\n",
    "\"\"\"\n",
    "X = sps.norm"
   ]
  },
  {
   "cell_type": "code",
   "execution_count": 3,
   "metadata": {},
   "outputs": [
    {
     "data": {
      "text/plain": [
       "array([-0.78707467,  1.59392314,  0.05813289, -1.23451771,  0.47316167,\n",
       "       -0.18285724, -0.26333158, -1.5330734 , -0.26722347,  0.12345256])"
      ]
     },
     "execution_count": 3,
     "metadata": {},
     "output_type": "execute_result"
    }
   ],
   "source": [
    "X.rvs(size=10)"
   ]
  },
  {
   "cell_type": "code",
   "execution_count": 4,
   "metadata": {},
   "outputs": [
    {
     "data": {
      "text/plain": [
       "0.5"
      ]
     },
     "execution_count": 4,
     "metadata": {},
     "output_type": "execute_result"
    }
   ],
   "source": [
    "\"\"\"\n",
    "X(params).cdf(x) — значение функции распределения в точке  x  (Cumulative Distribution Function);\n",
    "\"\"\"\n",
    "X.cdf(0)"
   ]
  },
  {
   "cell_type": "code",
   "execution_count": 5,
   "metadata": {},
   "outputs": [
    {
     "data": {
      "text/plain": [
       "0.8413447460685429"
      ]
     },
     "execution_count": 5,
     "metadata": {},
     "output_type": "execute_result"
    }
   ],
   "source": [
    "X.cdf(1)"
   ]
  },
  {
   "cell_type": "code",
   "execution_count": 6,
   "metadata": {},
   "outputs": [
    {
     "data": {
      "text/plain": [
       "0.15865525393145707"
      ]
     },
     "execution_count": 6,
     "metadata": {},
     "output_type": "execute_result"
    }
   ],
   "source": [
    "X.cdf(-1)"
   ]
  },
  {
   "cell_type": "code",
   "execution_count": 7,
   "metadata": {},
   "outputs": [
    {
     "data": {
      "text/plain": [
       "-0.6931471805599453"
      ]
     },
     "execution_count": 7,
     "metadata": {},
     "output_type": "execute_result"
    }
   ],
   "source": [
    "\"\"\"\n",
    "X(params).logcdf(x) — значение логарифма функции распределения в точке  x ;\n",
    "\"\"\"\n",
    "X.logcdf(0)"
   ]
  },
  {
   "cell_type": "code",
   "execution_count": 8,
   "metadata": {},
   "outputs": [
    {
     "data": {
      "text/plain": [
       "0.0"
      ]
     },
     "execution_count": 8,
     "metadata": {},
     "output_type": "execute_result"
    }
   ],
   "source": [
    "\"\"\"\n",
    "X(params).ppf(q) —  q -квантиль (Percent Point Function);\n",
    "\"\"\"\n",
    "\n",
    "X.ppf(0.5)"
   ]
  },
  {
   "cell_type": "code",
   "execution_count": 9,
   "metadata": {},
   "outputs": [
    {
     "data": {
      "text/plain": [
       "0.2533471031357997"
      ]
     },
     "execution_count": 9,
     "metadata": {},
     "output_type": "execute_result"
    }
   ],
   "source": [
    "X.ppf(0.6)"
   ]
  },
  {
   "cell_type": "code",
   "execution_count": 10,
   "metadata": {},
   "outputs": [
    {
     "data": {
      "text/plain": [
       "0.0"
      ]
     },
     "execution_count": 10,
     "metadata": {},
     "output_type": "execute_result"
    }
   ],
   "source": [
    "\"\"\"\n",
    "X(params).mean() — математическое ожидание;\n",
    "\"\"\"\n",
    "X.mean()"
   ]
  },
  {
   "cell_type": "code",
   "execution_count": 11,
   "metadata": {},
   "outputs": [
    {
     "data": {
      "text/plain": [
       "0.0"
      ]
     },
     "execution_count": 11,
     "metadata": {},
     "output_type": "execute_result"
    }
   ],
   "source": [
    "\"\"\"\n",
    "X(params).median() — медиана ( 1/2 -квантиль);\n",
    "\"\"\"\n",
    "\n",
    "X.median()"
   ]
  },
  {
   "cell_type": "code",
   "execution_count": 12,
   "metadata": {},
   "outputs": [
    {
     "data": {
      "text/plain": [
       "1.0"
      ]
     },
     "execution_count": 12,
     "metadata": {},
     "output_type": "execute_result"
    }
   ],
   "source": [
    "\"\"\"\n",
    "X(params).var() — дисперсия (Variance);\n",
    "\"\"\"\n",
    "\n",
    "X.var()"
   ]
  },
  {
   "cell_type": "markdown",
   "metadata": {},
   "source": [
    "## Рассмотрим распределения:\n",
    "* Нормальное\n",
    "* Биномиальное \n",
    "* Многомерное нормальное\n",
    "* Собственное распределение"
   ]
  },
  {
   "cell_type": "markdown",
   "metadata": {},
   "source": [
    "## 1.Нормальное распределение\n",
    "\n",
    "<img src=\"../norm.PNG/\">"
   ]
  },
  {
   "cell_type": "code",
   "execution_count": 13,
   "metadata": {},
   "outputs": [
    {
     "name": "stdout",
     "output_type": "stream",
     "text": [
      "Первые 10 значений выборки:\n",
      " [ 1.23606553  3.05794937  2.73732945  1.44596854  1.38179939 -1.92721692\n",
      " -1.04680216 -0.65234215 -0.02152984  1.38712254]\n",
      "Выборочное среденее: 0.715\n",
      "Выборочная дисперсия: 7.859\n"
     ]
    }
   ],
   "source": [
    "sample = sps.norm(loc=1, scale=3).rvs(size=200)\n",
    "print('Первые 10 значений выборки:\\n', sample[:10])\n",
    "print('Выборочное среденее: %.3f' % sample.mean())\n",
    "print('Выборочная дисперсия: %.3f' % sample.var())"
   ]
  },
  {
   "cell_type": "code",
   "execution_count": 14,
   "metadata": {},
   "outputs": [
    {
     "name": "stdout",
     "output_type": "stream",
     "text": [
      "Плотность:\t\t [0.10648267 0.12579441 0.13298076 0.12579441 0.10648267]\n",
      "Функция распределения:\t [0.25249254 0.36944134 0.5        0.63055866 0.74750746]\n",
      "Квантили: [-3.93456088 -2.8446547   1.          4.8446547   5.93456088]\n"
     ]
    }
   ],
   "source": [
    "print('Плотность:\\t\\t', sps.norm(loc=1, scale=3).pdf([-1, 0, 1, 2, 3]))\n",
    "print('Функция распределения:\\t', sps.norm(loc=1, scale=3).cdf([-1, 0, 1, 2, 3]))\n",
    "\n",
    "print('Квантили:', sps.norm(loc=1, scale=3).ppf([0.05, 0.1, 0.5, 0.9, 0.95]))"
   ]
  },
  {
   "cell_type": "code",
   "execution_count": 15,
   "metadata": {},
   "outputs": [],
   "source": [
    "\n",
    "import numpy as np\n",
    "import matplotlib.pyplot as plt"
   ]
  },
  {
   "cell_type": "code",
   "execution_count": 20,
   "metadata": {},
   "outputs": [
    {
     "data": {
      "text/plain": [
       "[<matplotlib.lines.Line2D at 0x1d68fabd2d0>]"
      ]
     },
     "execution_count": 20,
     "metadata": {},
     "output_type": "execute_result"
    },
    {
     "data": {
      "image/png": "[encoded data removed]",
      "text/plain": [
       "<Figure size 640x480 with 1 Axes>"
      ]
     },
     "metadata": {},
     "output_type": "display_data"
    }
   ],
   "source": [
    "x = np.linspace(0,20, 1000)\n",
    "y = sps.norm(loc=10, scale=1).pdf(x)\n",
    "plt.plot(x,y)"
   ]
  },
  {
   "cell_type": "code",
   "execution_count": null,
   "metadata": {},
   "outputs": [],
   "source": []
  },
  {
   "cell_type": "markdown",
   "metadata": {},
   "source": [
    "## 2.Биномиальное распределение\n",
    "\n",
    "<img src=\"../Bin.PNG/\">"
   ]
  },
  {
   "cell_type": "code",
   "execution_count": 26,
   "metadata": {},
   "outputs": [
    {
     "name": "stdout",
     "output_type": "stream",
     "text": [
      "Первые 10 значений выборки:\n",
      " [9 6 5 7 9 6 5 8 5 4]\n",
      "Выборочное среденее: 6.050\n",
      "Выборочная дисперсия: 2.417\n"
     ]
    }
   ],
   "source": [
    "sample = sps.binom(n=10, p=0.6).rvs(size=200)\n",
    "print('Первые 10 значений выборки:\\n', sample[:10])\n",
    "print('Выборочное среденее: %.3f' % sample.mean())\n",
    "print('Выборочная дисперсия: %.3f' % sample.var())"
   ]
  },
  {
   "cell_type": "code",
   "execution_count": 27,
   "metadata": {},
   "outputs": [
    {
     "name": "stdout",
     "output_type": "stream",
     "text": [
      "Плотность:\t\t [0.         0.00010486 0.00157286 0.01061683 0.04246733]\n",
      "Функция распределения:\t [0.         0.00010486 0.00167772 0.01229455 0.05476188]\n"
     ]
    }
   ],
   "source": [
    "print('Плотность:\\t\\t', sps.binom(n=10, p=0.6).pmf([-1, 0, 1, 2, 3]))\n",
    "print('Функция распределения:\\t', sps.binom(n=10, p=0.6).cdf([-1, 0, 1, 2, 3]))"
   ]
  },
  {
   "cell_type": "code",
   "execution_count": 28,
   "metadata": {},
   "outputs": [
    {
     "name": "stdout",
     "output_type": "stream",
     "text": [
      "Квантили: [3. 4. 6. 8. 8.]\n"
     ]
    }
   ],
   "source": [
    "print('Квантили:', sps.binom(n=10, p=0.6).ppf([0.05, 0.1, 0.5, 0.9, 0.95]))"
   ]
  },
  {
   "cell_type": "markdown",
   "metadata": {},
   "source": [
    "## 3.Многомерное нормальное распределение\n",
    "\n",
    "<img src=\"../M_norm.PNG/\">"
   ]
  },
  {
   "cell_type": "code",
   "execution_count": 31,
   "metadata": {
    "scrolled": false
   },
   "outputs": [
    {
     "name": "stdout",
     "output_type": "stream",
     "text": [
      "Первые 10 значений выборки:\n",
      " [[ 0.17300338  0.34605353]\n",
      " [ 0.97069427  1.45781154]\n",
      " [ 2.6702548   1.03129418]\n",
      " [ 0.56346332 -0.61341792]\n",
      " [-0.67511315  1.4795767 ]\n",
      " [ 2.4244835   2.84806367]\n",
      " [ 2.02395149  3.77288904]\n",
      " [ 0.40402221 -0.77779626]\n",
      " [ 2.40585719  2.41431522]\n",
      " [ 0.84460427 -0.34712898]]\n",
      "Выборочное среденее: [0.97465841 0.99354563]\n",
      "Выборочная матрица ковариаций:\n",
      " [[1.98786905 1.02324101]\n",
      " [1.02324101 1.95478747]]\n"
     ]
    }
   ],
   "source": [
    "import numpy as np\n",
    "\n",
    "sample = sps.multivariate_normal(\n",
    "    mean=[1, 1], cov=[[2, 1], [1, 2]]\n",
    ").rvs(size=2000)\n",
    "\n",
    "print('Первые 10 значений выборки:\\n', sample[:10])\n",
    "print('Выборочное среденее:', sample.mean(axis=0))\n",
    "print('Выборочная матрица ковариаций:\\n', np.cov(sample.T))"
   ]
  },
  {
   "cell_type": "markdown",
   "metadata": {},
   "source": [
    "## 4. Как создать собственное распределение?\n",
    "\n",
    "Бывает так, что надо сгенерировать выборку из распределения, которого нет в `scipy.stats`. Для этого надо создать класс, который будет наследоваться от класса rv_continuous для непрерывных случайных величин и от класса rv_discrete для дискретных случайных величин."
   ]
  },
  {
   "cell_type": "code",
   "execution_count": 33,
   "metadata": {},
   "outputs": [
    {
     "name": "stdout",
     "output_type": "stream",
     "text": [
      "Первые 10 значений выборки:\n",
      " [1.53731798 1.83695262 1.0179797  1.92591618 1.53825703 1.52208056\n",
      " 1.88091315 1.96355311 1.29034389 1.32422333]\n",
      "Выборочное среденее: 1.627\n",
      "Выборочная дисперсия: 0.076\n"
     ]
    }
   ],
   "source": [
    "class cubic_gen(sps.rv_continuous):\n",
    "    def _pdf(self, x):\n",
    "        return 4 * x ** 3 / 15\n",
    "cubic = cubic_gen(a=1, b=2, name='cubic')\n",
    "\n",
    "sample = cubic.rvs(size=200)\n",
    "\n",
    "print('Первые 10 значений выборки:\\n', sample[:10])\n",
    "print('Выборочное среденее: %.3f' % sample.mean())\n",
    "print('Выборочная дисперсия: %.3f' % sample.var())"
   ]
  },
  {
   "cell_type": "code",
   "execution_count": 34,
   "metadata": {},
   "outputs": [
    {
     "data": {
      "text/plain": [
       "[<matplotlib.lines.Line2D at 0x1d68fad2ed0>]"
      ]
     },
     "execution_count": 34,
     "metadata": {},
     "output_type": "execute_result"
    },
    {
     "data": {
      "image/png": "[encoded data removed]",
      "text/plain": [
       "<Figure size 640x480 with 1 Axes>"
      ]
     },
     "metadata": {},
     "output_type": "display_data"
    }
   ],
   "source": [
    "from matplotlib import pyplot as plt\n",
    "\n",
    "plt.grid()\n",
    "plt.plot(np.linspace(1,2,1000),cubic.pdf(np.linspace(1,2,1000)))"
   ]
  },
  {
   "cell_type": "markdown",
   "metadata": {},
   "source": [
    "## II. Статистические модели  scipy\n",
    "\n",
    "Рассмотрим задачу приближения неизвестной зависимости линейной функцией\n",
    "\n",
    "<img src=\"../LR.PNG\">\n",
    "<img src=\"../ps_inv.PNG\">\n",
    "\n",
    "## Рассмотрим применение линейной регрессии на основе следующей задачи:\n",
    "\n",
    "### Предсказать доход магазина к концу осени по имеющимся данным за весь год"
   ]
  },
  {
   "cell_type": "code",
   "execution_count": 36,
   "metadata": {},
   "outputs": [
    {
     "name": "stderr",
     "output_type": "stream",
     "text": [
      "C:\\Users\\dboy\\AppData\\Local\\Temp\\ipykernel_20612\\4139919808.py:5: SettingWithCopyWarning: \n",
      "A value is trying to be set on a copy of a slice from a DataFrame.\n",
      "Try using .loc[row_indexer,col_indexer] = value instead\n",
      "\n",
      "See the caveats in the documentation: https://pandas.pydata.org/pandas-docs/stable/user_guide/indexing.html#returning-a-view-versus-a-copy\n",
      "  sales59.date = pd.to_datetime(sales59.date, format='mixed')\n"
     ]
    }
   ],
   "source": [
    "import pandas as pd\n",
    "\n",
    "sales = pd.read_csv('sales_train.csv')\n",
    "sales59 = sales[sales.shop_id == 59]\n",
    "sales59.date = pd.to_datetime(sales59.date, format='mixed')\n",
    "sales59.set_index('date', inplace=True)\n",
    "sales59 = sales59.drop(columns=['date_block_num', 'item_id'])\n",
    "sales59['income'] = sales59['item_price']*sales59['item_cnt_day']\n",
    "\n",
    "sales_59 = sales59[sales59.index.year == 2013]"
   ]
  },
  {
   "cell_type": "code",
   "execution_count": 37,
   "metadata": {},
   "outputs": [],
   "source": [
    "import matplotlib.pyplot as plt"
   ]
  },
  {
   "cell_type": "code",
   "execution_count": 38,
   "metadata": {},
   "outputs": [],
   "source": [
    "sales_59 = sales_59[sales_59.index.month < 11]"
   ]
  },
  {
   "cell_type": "code",
   "execution_count": 39,
   "metadata": {},
   "outputs": [],
   "source": [
    "sales_59_historic = sales_59[sales_59.index.month < 10]"
   ]
  },
  {
   "cell_type": "code",
   "execution_count": 40,
   "metadata": {},
   "outputs": [],
   "source": [
    "sales_59_to_predict = sales_59[sales_59.index.month == 10]"
   ]
  },
  {
   "cell_type": "code",
   "execution_count": 41,
   "metadata": {},
   "outputs": [],
   "source": [
    "sales_59_historic = sales_59_historic.sort_values(by = 'date')\n",
    "sales_59_to_predict = sales_59_to_predict.sort_values(by = 'date')"
   ]
  },
  {
   "cell_type": "code",
   "execution_count": 42,
   "metadata": {},
   "outputs": [
    {
     "data": {
      "text/plain": [
       "date\n",
       "2013-02-01     999.0\n",
       "2013-10-01     399.0\n",
       "2013-04-01     699.0\n",
       "2013-01-19     398.0\n",
       "2013-01-31    5571.0\n",
       "               ...  \n",
       "2015-10-10     298.0\n",
       "2015-04-10     299.0\n",
       "2015-11-10    2999.0\n",
       "2015-10-15    1199.0\n",
       "2015-10-21    1499.0\n",
       "Name: income, Length: 42108, dtype: float64"
      ]
     },
     "execution_count": 42,
     "metadata": {},
     "output_type": "execute_result"
    }
   ],
   "source": [
    "sales59['income']"
   ]
  },
  {
   "cell_type": "code",
   "execution_count": 43,
   "metadata": {},
   "outputs": [],
   "source": [
    "sales_59_historic['INC'] = sales_59_historic.income.cumsum()"
   ]
  },
  {
   "cell_type": "code",
   "execution_count": 44,
   "metadata": {},
   "outputs": [
    {
     "data": {
      "text/plain": [
       "[<matplotlib.lines.Line2D at 0x1d694071f50>]"
      ]
     },
     "execution_count": 44,
     "metadata": {},
     "output_type": "execute_result"
    },
    {
     "data": {
      "image/png": "[encoded data removed]",
      "text/plain": [
       "<Figure size 1200x1200 with 1 Axes>"
      ]
     },
     "metadata": {},
     "output_type": "display_data"
    }
   ],
   "source": [
    "plt.figure(figsize = (12,12))\n",
    "plt.grid()\n",
    "plt.plot(sales_59_historic.index,sales_59_historic.INC)"
   ]
  },
  {
   "cell_type": "code",
   "execution_count": 11,
   "metadata": {},
   "outputs": [
    {
     "data": {
      "text/plain": [
       "<matplotlib.collections.PathCollection at 0x28d0cfb9df0>"
      ]
     },
     "execution_count": 11,
     "metadata": {},
     "output_type": "execute_result"
    },
    {
     "data": {
      "image/png": "[encoded data removed]",
      "text/plain": [
       "<Figure size 864x864 with 1 Axes>"
      ]
     },
     "metadata": {
      "needs_background": "light"
     },
     "output_type": "display_data"
    }
   ],
   "source": [
    "plt.figure(figsize = (12,12))\n",
    "plt.grid()\n",
    "plt.scatter(sales_59_historic.index.unique(),sales_59_historic.INC.resample('1D').agg('last'))"
   ]
  },
  {
   "cell_type": "code",
   "execution_count": 45,
   "metadata": {},
   "outputs": [],
   "source": [
    "mounth_income = [sales_59_historic['income'][sales_59_historic.index.month == i].sum() for i in range(1,11)]"
   ]
  },
  {
   "cell_type": "code",
   "execution_count": 46,
   "metadata": {},
   "outputs": [
    {
     "data": {
      "text/plain": [
       "<matplotlib.collections.PathCollection at 0x1d68fa8f0d0>"
      ]
     },
     "execution_count": 46,
     "metadata": {},
     "output_type": "execute_result"
    },
    {
     "data": {
      "image/png": "[encoded data removed]",
      "text/plain": [
       "<Figure size 1200x1200 with 1 Axes>"
      ]
     },
     "metadata": {},
     "output_type": "display_data"
    }
   ],
   "source": [
    "import numpy as np\n",
    "plt.figure(figsize = (12,12))\n",
    "plt.grid()\n",
    "plt.scatter(np.arange(1,11),mounth_income)"
   ]
  },
  {
   "cell_type": "code",
   "execution_count": 47,
   "metadata": {},
   "outputs": [],
   "source": [
    "\"\"\"\n",
    "Используем линейную регрессию!\n",
    "\"\"\"\n",
    "import scipy\n",
    "result = sps.linregress(x=np.arange(272), y=sales_59_historic.INC.resample('1D').agg('last'))"
   ]
  },
  {
   "cell_type": "code",
   "execution_count": 48,
   "metadata": {},
   "outputs": [],
   "source": [
    "k = result.slope\n",
    "b = result.intercept"
   ]
  },
  {
   "cell_type": "code",
   "execution_count": 49,
   "metadata": {},
   "outputs": [],
   "source": [
    "day = 272 + 31\n",
    "prediction = k*day + b"
   ]
  },
  {
   "cell_type": "code",
   "execution_count": 50,
   "metadata": {},
   "outputs": [
    {
     "data": {
      "text/plain": [
       "12845517.376367137"
      ]
     },
     "execution_count": 50,
     "metadata": {},
     "output_type": "execute_result"
    }
   ],
   "source": [
    "prediction"
   ]
  },
  {
   "cell_type": "code",
   "execution_count": 51,
   "metadata": {},
   "outputs": [
    {
     "name": "stderr",
     "output_type": "stream",
     "text": [
      "C:\\Users\\dboy\\AppData\\Local\\Temp\\ipykernel_20612\\1388359478.py:1: FutureWarning: Series.__getitem__ treating keys as positions is deprecated. In a future version, integer keys will always be treated as labels (consistent with DataFrame behavior). To access a value by position, use `ser.iloc[pos]`\n",
      "  predicted_income = prediction - sales_59_historic.INC[-1]\n"
     ]
    }
   ],
   "source": [
    "predicted_income = prediction - sales_59_historic.INC[-1]"
   ]
  },
  {
   "cell_type": "code",
   "execution_count": 52,
   "metadata": {},
   "outputs": [
    {
     "data": {
      "text/plain": [
       "1015308.7863669805"
      ]
     },
     "execution_count": 52,
     "metadata": {},
     "output_type": "execute_result"
    }
   ],
   "source": [
    "predicted_income"
   ]
  },
  {
   "cell_type": "code",
   "execution_count": 53,
   "metadata": {},
   "outputs": [
    {
     "data": {
      "text/plain": [
       "337676.2136330195"
      ]
     },
     "execution_count": 53,
     "metadata": {},
     "output_type": "execute_result"
    }
   ],
   "source": [
    "\"\"\"\n",
    "Сравним с реальностью\n",
    "\"\"\"\n",
    "real_income = sales_59_to_predict.income.sum()\n",
    "\n",
    "real_income - predicted_income"
   ]
  },
  {
   "cell_type": "code",
   "execution_count": 54,
   "metadata": {},
   "outputs": [
    {
     "data": {
      "text/plain": [
       "0.24957868241925776"
      ]
     },
     "execution_count": 54,
     "metadata": {},
     "output_type": "execute_result"
    }
   ],
   "source": [
    "(real_income - predicted_income)/real_income"
   ]
  },
  {
   "cell_type": "code",
   "execution_count": 55,
   "metadata": {},
   "outputs": [
    {
     "data": {
      "text/plain": [
       "<matplotlib.legend.Legend at 0x1d694206750>"
      ]
     },
     "execution_count": 55,
     "metadata": {},
     "output_type": "execute_result"
    },
    {
     "data": {
      "image/png": "[encoded data removed]",
      "text/plain": [
       "<Figure size 1200x1200 with 1 Axes>"
      ]
     },
     "metadata": {},
     "output_type": "display_data"
    }
   ],
   "source": [
    "plt.figure(figsize = (12,12))\n",
    "plt.grid()\n",
    "\n",
    "X = sales_59_historic.index.unique()\n",
    "Y = sales_59_historic.INC.resample('1D').agg('last')\n",
    "preds = k*np.arange(272) + b\n",
    "\n",
    "plt.scatter(X,Y, label='Настоящие значения')\n",
    "plt.plot(X, preds, c='r', label='Предсказание')\n",
    "plt.legend()"
   ]
  },
  {
   "cell_type": "markdown",
   "metadata": {},
   "source": [
    "## III. Разреженные матрицы"
   ]
  },
  {
   "cell_type": "code",
   "execution_count": 56,
   "metadata": {},
   "outputs": [
    {
     "name": "stdout",
     "output_type": "stream",
     "text": [
      "(1, 15)\n"
     ]
    },
    {
     "data": {
      "text/plain": [
       "array([[1., 0., 0., 1., 0., 1., 1., 0., 1., 0., 0., 1., 0., 0., 0.],\n",
       "       [0., 0., 0., 1., 0., 1., 1., 0., 0., 0., 0., 1., 0., 0., 0.],\n",
       "       [1., 0., 0., 0., 0., 0., 0., 0., 1., 0., 0., 0., 0., 0., 0.]])"
      ]
     },
     "execution_count": 56,
     "metadata": {},
     "output_type": "execute_result"
    }
   ],
   "source": [
    "text_1 = 'I love my cats and dogs'\n",
    "text_2 = 'my cats and dogs'\n",
    "text_3 = 'I love'\n",
    "\n",
    "vocab = {'I': 0 , 'Me' : 1, 'may': 2, 'cats' : 3, 'the' : 4, 'and' : 5, 'dogs' : 6, 'fruits' : 7, 'love' : 8,\n",
    "         'apple' : 9, 'an' : 10, 'my' : 11, 'unicorn' : 12, 'computer' : 13, 'spider-man' : 14}\n",
    "\n",
    "def make_vec(word, vocab):\n",
    "    ans = np.zeros(len(vocab))\n",
    "    ans[vocab[word]] = 1\n",
    "    return ans\n",
    "def make_vec_from_text(text, vocab):\n",
    "    vec = np.zeros(len(vocab))\n",
    "    for word in text.split():\n",
    "        vec+=make_vec(word, vocab)\n",
    "    return vec\n",
    "\n",
    "def make_matrix(texts,vocab):\n",
    "    matr = make_vec_from_text(texts[0], vocab)\n",
    "    matr = matr.reshape(1,matr.shape[0],)\n",
    "    print(matr.shape)\n",
    "    for i in range(1,len(texts)):\n",
    "        vec = make_vec_from_text(texts[i], vocab).reshape(1,len(vocab))\n",
    "        matr = np.concatenate((matr,vec),axis = 0)\n",
    "    return matr\n",
    "\n",
    "M = make_matrix([text_1,text_2,text_3],vocab)\n",
    "M"
   ]
  },
  {
   "cell_type": "code",
   "execution_count": 57,
   "metadata": {},
   "outputs": [
    {
     "data": {
      "text/plain": [
       "array([1., 0., 0., 1., 0., 1., 1., 0., 1., 0., 0., 1., 0., 0., 0.])"
      ]
     },
     "execution_count": 57,
     "metadata": {},
     "output_type": "execute_result"
    }
   ],
   "source": [
    "make_vec_from_text(text_1,vocab)"
   ]
  },
  {
   "cell_type": "code",
   "execution_count": 58,
   "metadata": {},
   "outputs": [],
   "source": [
    "import scipy.sparse as sps\n",
    "\n",
    "sparse = sps.bsr_matrix(M)"
   ]
  },
  {
   "cell_type": "code",
   "execution_count": 59,
   "metadata": {},
   "outputs": [
    {
     "data": {
      "text/plain": [
       "<3x15 sparse matrix of type '<class 'numpy.float64'>'\n",
       "\twith 12 stored elements (blocksize = 1x1) in Block Sparse Row format>"
      ]
     },
     "execution_count": 59,
     "metadata": {},
     "output_type": "execute_result"
    }
   ],
   "source": [
    "sparse"
   ]
  },
  {
   "cell_type": "code",
   "execution_count": 60,
   "metadata": {},
   "outputs": [
    {
     "name": "stdout",
     "output_type": "stream",
     "text": [
      "  (0, 0)\t1.0\n",
      "  (0, 3)\t1.0\n",
      "  (0, 5)\t1.0\n",
      "  (0, 6)\t1.0\n",
      "  (0, 8)\t1.0\n",
      "  (0, 11)\t1.0\n",
      "  (1, 3)\t1.0\n",
      "  (1, 5)\t1.0\n",
      "  (1, 6)\t1.0\n",
      "  (1, 11)\t1.0\n",
      "  (2, 0)\t1.0\n",
      "  (2, 8)\t1.0\n"
     ]
    }
   ],
   "source": [
    "print(sparse)"
   ]
  },
  {
   "cell_type": "code",
   "execution_count": 61,
   "metadata": {},
   "outputs": [
    {
     "name": "stdout",
     "output_type": "stream",
     "text": [
      "(1, 15)\n"
     ]
    },
    {
     "data": {
      "text/plain": [
       "array([[1., 0., 0., 0., 0., 0., 0., 1., 1., 0., 0., 0., 0., 0., 0.],\n",
       "       [0., 0., 0., 0., 0., 0., 0., 0., 0., 1., 1., 0., 0., 0., 0.],\n",
       "       [1., 0., 0., 0., 0., 0., 0., 0., 1., 0., 0., 0., 0., 0., 1.]])"
      ]
     },
     "execution_count": 61,
     "metadata": {},
     "output_type": "execute_result"
    }
   ],
   "source": [
    "text_4 = 'I love fruits'\n",
    "text_5 = 'an apple'\n",
    "text_6 = 'I love spider-man'\n",
    "\n",
    "M_1 = make_matrix([text_4,text_5,text_6],vocab)\n",
    "M_1"
   ]
  },
  {
   "cell_type": "code",
   "execution_count": 62,
   "metadata": {},
   "outputs": [
    {
     "data": {
      "text/plain": [
       "array([[1., 0., 0., 1., 0., 1., 1., 0., 1., 0., 0., 1., 0., 0., 0.],\n",
       "       [0., 0., 0., 1., 0., 1., 1., 0., 0., 0., 0., 1., 0., 0., 0.],\n",
       "       [1., 0., 0., 0., 0., 0., 0., 0., 1., 0., 0., 0., 0., 0., 0.],\n",
       "       [1., 0., 0., 0., 0., 0., 0., 1., 1., 0., 0., 0., 0., 0., 0.],\n",
       "       [0., 0., 0., 0., 0., 0., 0., 0., 0., 1., 1., 0., 0., 0., 0.],\n",
       "       [1., 0., 0., 0., 0., 0., 0., 0., 1., 0., 0., 0., 0., 0., 1.]])"
      ]
     },
     "execution_count": 62,
     "metadata": {},
     "output_type": "execute_result"
    }
   ],
   "source": [
    "M_stack = np.vstack((M,M_1))\n",
    "M_stack"
   ]
  },
  {
   "cell_type": "code",
   "execution_count": 63,
   "metadata": {},
   "outputs": [
    {
     "name": "stdout",
     "output_type": "stream",
     "text": [
      "  (0, 0)\t1.0\n",
      "  (0, 3)\t1.0\n",
      "  (0, 5)\t1.0\n",
      "  (0, 6)\t1.0\n",
      "  (0, 8)\t1.0\n",
      "  (0, 11)\t1.0\n",
      "  (1, 3)\t1.0\n",
      "  (1, 5)\t1.0\n",
      "  (1, 6)\t1.0\n",
      "  (1, 11)\t1.0\n",
      "  (2, 0)\t1.0\n",
      "  (2, 8)\t1.0\n",
      "  (3, 0)\t1.0\n",
      "  (3, 7)\t1.0\n",
      "  (3, 8)\t1.0\n",
      "  (4, 9)\t1.0\n",
      "  (4, 10)\t1.0\n",
      "  (5, 0)\t1.0\n",
      "  (5, 8)\t1.0\n",
      "  (5, 14)\t1.0 \n",
      "\n",
      "\n",
      "\n",
      "  (0, 0)\t1.0\n",
      "  (0, 3)\t1.0\n",
      "  (0, 5)\t1.0\n",
      "  (0, 6)\t1.0\n",
      "  (0, 8)\t1.0\n",
      "  (0, 11)\t1.0\n",
      "  (1, 3)\t1.0\n",
      "  (1, 5)\t1.0\n",
      "  (1, 6)\t1.0\n",
      "  (1, 11)\t1.0\n",
      "  (2, 0)\t1.0\n",
      "  (2, 8)\t1.0\n",
      "  (3, 0)\t1.0\n",
      "  (3, 7)\t1.0\n",
      "  (3, 8)\t1.0\n",
      "  (4, 9)\t1.0\n",
      "  (4, 10)\t1.0\n",
      "  (5, 0)\t1.0\n",
      "  (5, 8)\t1.0\n",
      "  (5, 14)\t1.0\n"
     ]
    }
   ],
   "source": [
    "Sp_1 = sps.bsr_matrix(M_stack)\n",
    "Sp_2 = sps.bsr_matrix(M_1)\n",
    "\n",
    "Sparse_1 = sps.vstack((sparse,Sp_2))\n",
    "\n",
    "print(Sparse_1,'\\n\\n\\n')\n",
    "print(Sp_1)"
   ]
  },
  {
   "cell_type": "code",
   "execution_count": null,
   "metadata": {},
   "outputs": [],
   "source": []
  }
 ],
 "metadata": {
  "kernelspec": {
   "display_name": "Python 3 (ipykernel)",
   "language": "python",
   "name": "python3"
  },
  "language_info": {
   "codemirror_mode": {
    "name": "ipython",
    "version": 3
   },
   "file_extension": ".py",
   "mimetype": "text/x-python",
   "name": "python",
   "nbconvert_exporter": "python",
   "pygments_lexer": "ipython3",
   "version": "3.11.7"
  }
 },
 "nbformat": 4,
 "nbformat_minor": 4
}
