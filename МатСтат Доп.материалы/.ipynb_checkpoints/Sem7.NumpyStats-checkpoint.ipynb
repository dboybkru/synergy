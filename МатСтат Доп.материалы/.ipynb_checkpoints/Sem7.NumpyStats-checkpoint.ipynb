{
 "cells": [
  {
   "cell_type": "code",
   "execution_count": 1,
   "metadata": {},
   "outputs": [],
   "source": [
    "import numpy as np"
   ]
  },
  {
   "cell_type": "markdown",
   "metadata": {},
   "source": [
    "## 1. Основные статистики"
   ]
  },
  {
   "cell_type": "code",
   "execution_count": 2,
   "metadata": {},
   "outputs": [],
   "source": [
    "\"\"\"\n",
    "Пусть перед нами есть массив, необходимо найти индекс самого большого его элемента\n",
    "\"\"\"\n",
    "\n",
    "arr = np.array([1,5,3,4,8,2,1,5])"
   ]
  },
  {
   "cell_type": "code",
   "execution_count": 3,
   "metadata": {},
   "outputs": [
    {
     "data": {
      "text/plain": [
       "8"
      ]
     },
     "execution_count": 3,
     "metadata": {},
     "output_type": "execute_result"
    }
   ],
   "source": [
    "max(arr)"
   ]
  },
  {
   "cell_type": "code",
   "execution_count": 4,
   "metadata": {},
   "outputs": [],
   "source": [
    "\"\"\"\n",
    "Можно сделать так:\n",
    "\"\"\"\n",
    "\n",
    "m = max(arr)\n",
    "ind = -1\n",
    "for i in range(arr.shape[0]):\n",
    "    if arr[i] == m:\n",
    "        ind = i\n",
    "        break"
   ]
  },
  {
   "cell_type": "code",
   "execution_count": 5,
   "metadata": {},
   "outputs": [
    {
     "data": {
      "text/plain": [
       "4"
      ]
     },
     "execution_count": 5,
     "metadata": {},
     "output_type": "execute_result"
    }
   ],
   "source": [
    "ind"
   ]
  },
  {
   "cell_type": "code",
   "execution_count": 6,
   "metadata": {},
   "outputs": [
    {
     "data": {
      "text/plain": [
       "4"
      ]
     },
     "execution_count": 6,
     "metadata": {},
     "output_type": "execute_result"
    }
   ],
   "source": [
    "\"\"\"\n",
    "В математике эта операция называется argmax\n",
    "\"\"\"\n",
    "\n",
    "np.argmax(arr)"
   ]
  },
  {
   "cell_type": "code",
   "execution_count": 7,
   "metadata": {},
   "outputs": [
    {
     "data": {
      "text/plain": [
       "0"
      ]
     },
     "execution_count": 7,
     "metadata": {},
     "output_type": "execute_result"
    }
   ],
   "source": [
    "\"\"\"\n",
    "Аналогично: минимум\n",
    "\"\"\"\n",
    "\n",
    "np.argmin(arr)"
   ]
  },
  {
   "cell_type": "code",
   "execution_count": 10,
   "metadata": {},
   "outputs": [
    {
     "data": {
      "text/plain": [
       "array([[12, 13, 14, 15],\n",
       "       [ 8,  9, 10, 11],\n",
       "       [ 4,  5,  6,  7],\n",
       "       [ 0,  1,  2,  3]])"
      ]
     },
     "execution_count": 10,
     "metadata": {},
     "output_type": "execute_result"
    }
   ],
   "source": [
    "\"\"\"\n",
    "Операцию можно сделать многомерной:\n",
    "\"\"\"\n",
    "\n",
    "arr = np.arange(16).reshape(-1,4)[::-1]\n",
    "arr"
   ]
  },
  {
   "cell_type": "code",
   "execution_count": 11,
   "metadata": {},
   "outputs": [
    {
     "data": {
      "text/plain": [
       "array([12, 13, 14, 15,  8,  9, 10, 11,  4,  5,  6,  7,  0,  1,  2,  3])"
      ]
     },
     "execution_count": 11,
     "metadata": {},
     "output_type": "execute_result"
    }
   ],
   "source": [
    "arr.reshape(-1)"
   ]
  },
  {
   "cell_type": "code",
   "execution_count": 12,
   "metadata": {},
   "outputs": [
    {
     "data": {
      "text/plain": [
       "12"
      ]
     },
     "execution_count": 12,
     "metadata": {},
     "output_type": "execute_result"
    }
   ],
   "source": [
    "np.argmin(arr)"
   ]
  },
  {
   "cell_type": "code",
   "execution_count": 13,
   "metadata": {},
   "outputs": [
    {
     "data": {
      "text/plain": [
       "array([3, 3, 3, 3], dtype=int64)"
      ]
     },
     "execution_count": 13,
     "metadata": {},
     "output_type": "execute_result"
    }
   ],
   "source": [
    "np.argmin(arr, axis=0)"
   ]
  },
  {
   "cell_type": "code",
   "execution_count": 14,
   "metadata": {},
   "outputs": [
    {
     "data": {
      "text/plain": [
       "array([0, 0, 0, 0], dtype=int64)"
      ]
     },
     "execution_count": 14,
     "metadata": {},
     "output_type": "execute_result"
    }
   ],
   "source": [
    "np.argmin(arr, axis=1)"
   ]
  },
  {
   "cell_type": "code",
   "execution_count": 15,
   "metadata": {},
   "outputs": [
    {
     "data": {
      "text/plain": [
       "0"
      ]
     },
     "execution_count": 15,
     "metadata": {},
     "output_type": "execute_result"
    }
   ],
   "source": [
    "\"\"\"\n",
    "Просто минимальное и максимальное значения: np.amin/np.amax\n",
    "\"\"\"\n",
    "\n",
    "np.amin(arr)"
   ]
  },
  {
   "cell_type": "code",
   "execution_count": 16,
   "metadata": {},
   "outputs": [
    {
     "data": {
      "text/plain": [
       "15"
      ]
     },
     "execution_count": 16,
     "metadata": {},
     "output_type": "execute_result"
    }
   ],
   "source": [
    "np.amax(arr)"
   ]
  },
  {
   "cell_type": "code",
   "execution_count": 17,
   "metadata": {},
   "outputs": [
    {
     "data": {
      "text/plain": [
       "array([0, 1, 2, 3])"
      ]
     },
     "execution_count": 17,
     "metadata": {},
     "output_type": "execute_result"
    }
   ],
   "source": [
    "\"\"\"\n",
    "Зачем же нужны эти функции, если есть просто min и max?\n",
    "\"\"\"\n",
    "\n",
    "np.amin(arr, axis=0)"
   ]
  },
  {
   "cell_type": "code",
   "execution_count": 18,
   "metadata": {},
   "outputs": [
    {
     "data": {
      "text/plain": [
       "array([12,  8,  4,  0])"
      ]
     },
     "execution_count": 18,
     "metadata": {},
     "output_type": "execute_result"
    }
   ],
   "source": [
    "np.amin(arr, axis=1)"
   ]
  },
  {
   "cell_type": "code",
   "execution_count": 19,
   "metadata": {},
   "outputs": [
    {
     "data": {
      "text/plain": [
       "array([ 1.,  2., inf,  4.,  5., nan,  7.,  8., nan])"
      ]
     },
     "execution_count": 19,
     "metadata": {},
     "output_type": "execute_result"
    }
   ],
   "source": [
    "\"\"\"\n",
    "Отступление: inf и nan\n",
    "\"\"\"\n",
    "\n",
    "nan_inf_arr = np.array([1, 2, np.inf, 4, 5, np.nan, 7, 8, np.nan])\n",
    "nan_inf_arr"
   ]
  },
  {
   "cell_type": "code",
   "execution_count": 20,
   "metadata": {},
   "outputs": [
    {
     "data": {
      "text/plain": [
       "nan"
      ]
     },
     "execution_count": 20,
     "metadata": {},
     "output_type": "execute_result"
    }
   ],
   "source": [
    "np.amin(nan_inf_arr)"
   ]
  },
  {
   "cell_type": "code",
   "execution_count": 21,
   "metadata": {},
   "outputs": [
    {
     "data": {
      "text/plain": [
       "array([False, False,  True, False, False, False, False, False, False])"
      ]
     },
     "execution_count": 21,
     "metadata": {},
     "output_type": "execute_result"
    }
   ],
   "source": [
    "np.isinf(nan_inf_arr)"
   ]
  },
  {
   "cell_type": "code",
   "execution_count": 22,
   "metadata": {},
   "outputs": [
    {
     "data": {
      "text/plain": [
       "array([False, False, False, False, False,  True, False, False,  True])"
      ]
     },
     "execution_count": 22,
     "metadata": {},
     "output_type": "execute_result"
    }
   ],
   "source": [
    "np.isnan(nan_inf_arr)"
   ]
  },
  {
   "cell_type": "code",
   "execution_count": 23,
   "metadata": {},
   "outputs": [
    {
     "data": {
      "text/plain": [
       "nan"
      ]
     },
     "execution_count": 23,
     "metadata": {},
     "output_type": "execute_result"
    }
   ],
   "source": [
    "np.amax(nan_inf_arr)"
   ]
  },
  {
   "cell_type": "code",
   "execution_count": 24,
   "metadata": {},
   "outputs": [
    {
     "data": {
      "text/plain": [
       "inf"
      ]
     },
     "execution_count": 24,
     "metadata": {},
     "output_type": "execute_result"
    }
   ],
   "source": [
    "np.nanmax(nan_inf_arr)"
   ]
  },
  {
   "cell_type": "code",
   "execution_count": 25,
   "metadata": {},
   "outputs": [
    {
     "data": {
      "text/plain": [
       "1.0"
      ]
     },
     "execution_count": 25,
     "metadata": {},
     "output_type": "execute_result"
    }
   ],
   "source": [
    "np.nanmin(nan_inf_arr)"
   ]
  },
  {
   "cell_type": "code",
   "execution_count": 26,
   "metadata": {},
   "outputs": [
    {
     "data": {
      "text/plain": [
       "array([[12, 13, 14, 15],\n",
       "       [ 8,  9, 10, 11],\n",
       "       [ 4,  5,  6,  7],\n",
       "       [ 0,  1,  2,  3]])"
      ]
     },
     "execution_count": 26,
     "metadata": {},
     "output_type": "execute_result"
    }
   ],
   "source": [
    "arr"
   ]
  },
  {
   "cell_type": "code",
   "execution_count": 27,
   "metadata": {},
   "outputs": [
    {
     "data": {
      "text/plain": [
       "15"
      ]
     },
     "execution_count": 27,
     "metadata": {},
     "output_type": "execute_result"
    }
   ],
   "source": [
    "\"\"\"\n",
    "Диапазон\n",
    "\"\"\"\n",
    "\n",
    "np.ptp(arr)"
   ]
  },
  {
   "cell_type": "code",
   "execution_count": 28,
   "metadata": {},
   "outputs": [
    {
     "data": {
      "text/plain": [
       "array([12, 12, 12, 12])"
      ]
     },
     "execution_count": 28,
     "metadata": {},
     "output_type": "execute_result"
    }
   ],
   "source": [
    "np.ptp(arr, axis = 0)"
   ]
  },
  {
   "cell_type": "code",
   "execution_count": 29,
   "metadata": {},
   "outputs": [
    {
     "data": {
      "text/plain": [
       "array([3, 3, 3, 3])"
      ]
     },
     "execution_count": 29,
     "metadata": {},
     "output_type": "execute_result"
    }
   ],
   "source": [
    "np.ptp(arr, axis = 1)"
   ]
  },
  {
   "cell_type": "markdown",
   "metadata": {},
   "source": [
    "## Перцентиль, Квантиль\n",
    "\n",
    "<img src=\"Perc.PNG\">"
   ]
  },
  {
   "cell_type": "code",
   "execution_count": 30,
   "metadata": {},
   "outputs": [],
   "source": [
    "\"\"\"\n",
    "Как мы можем посчитать это значение?\n",
    "\"\"\"\n",
    "\n",
    "perc = 60\n",
    "\n",
    "array = np.random.randn(100_000)"
   ]
  },
  {
   "cell_type": "code",
   "execution_count": 31,
   "metadata": {},
   "outputs": [
    {
     "data": {
      "text/plain": [
       "60000"
      ]
     },
     "execution_count": 31,
     "metadata": {},
     "output_type": "execute_result"
    }
   ],
   "source": [
    "array = np.sort(array)\n",
    "ind = array.shape[0]*perc/100\n",
    "ind = int(ind)\n",
    "ind"
   ]
  },
  {
   "cell_type": "code",
   "execution_count": 32,
   "metadata": {},
   "outputs": [
    {
     "data": {
      "text/plain": [
       "0.25204608809923357"
      ]
     },
     "execution_count": 32,
     "metadata": {},
     "output_type": "execute_result"
    }
   ],
   "source": [
    "array[ind]"
   ]
  },
  {
   "cell_type": "code",
   "execution_count": 33,
   "metadata": {},
   "outputs": [],
   "source": [
    "from matplotlib import pyplot as plt"
   ]
  },
  {
   "cell_type": "code",
   "execution_count": 34,
   "metadata": {},
   "outputs": [
    {
     "data": {
      "image/png": "[encoded data removed]",
      "text/plain": [
       "<Figure size 640x480 with 1 Axes>"
      ]
     },
     "metadata": {},
     "output_type": "display_data"
    }
   ],
   "source": [
    "h = plt.hist(array)"
   ]
  },
  {
   "cell_type": "code",
   "execution_count": 35,
   "metadata": {},
   "outputs": [
    {
     "data": {
      "image/png": "[encoded data removed]",
      "text/plain": [
       "<Figure size 640x480 with 1 Axes>"
      ]
     },
     "metadata": {},
     "output_type": "display_data"
    }
   ],
   "source": [
    "h = plt.hist(np.sort(array)[:ind], bins=5)"
   ]
  },
  {
   "cell_type": "code",
   "execution_count": 36,
   "metadata": {},
   "outputs": [
    {
     "data": {
      "text/plain": [
       "0.25201853648627304"
      ]
     },
     "execution_count": 36,
     "metadata": {},
     "output_type": "execute_result"
    }
   ],
   "source": [
    "\"\"\"\n",
    "Есть вариант проще\n",
    "\"\"\"\n",
    "\n",
    "np.quantile(array, 0.6)"
   ]
  },
  {
   "cell_type": "code",
   "execution_count": 37,
   "metadata": {},
   "outputs": [
    {
     "data": {
      "text/plain": [
       "0.25201853648627304"
      ]
     },
     "execution_count": 37,
     "metadata": {},
     "output_type": "execute_result"
    }
   ],
   "source": [
    "np.percentile(array, 60)"
   ]
  },
  {
   "cell_type": "code",
   "execution_count": 38,
   "metadata": {},
   "outputs": [
    {
     "data": {
      "text/plain": [
       "0.25201853648627304"
      ]
     },
     "execution_count": 38,
     "metadata": {},
     "output_type": "execute_result"
    }
   ],
   "source": [
    "np.percentile(array, 60)"
   ]
  },
  {
   "cell_type": "code",
   "execution_count": 39,
   "metadata": {},
   "outputs": [
    {
     "data": {
      "text/plain": [
       "0.25201853648627304"
      ]
     },
     "execution_count": 39,
     "metadata": {},
     "output_type": "execute_result"
    }
   ],
   "source": [
    "np.quantile(array, 0.6)"
   ]
  },
  {
   "cell_type": "code",
   "execution_count": 40,
   "metadata": {},
   "outputs": [
    {
     "data": {
      "text/plain": [
       "0.25201853648627304"
      ]
     },
     "execution_count": 40,
     "metadata": {},
     "output_type": "execute_result"
    }
   ],
   "source": [
    "np.nanquantile(array, 0.6)"
   ]
  },
  {
   "cell_type": "markdown",
   "metadata": {},
   "source": [
    "## 2.Средние, медианы, отклонения"
   ]
  },
  {
   "cell_type": "markdown",
   "metadata": {},
   "source": [
    "Медиа́на (от лат. mediāna — середина) в математической статистике — число, характеризующее выборку (например, набор чисел). Если все элементы выборки различны, то медиана — это такое число выборки, что ровно половина из элементов выборки больше него, а другая половина меньше него.\n",
    "\n",
    "<img src=\"median.jpg\">"
   ]
  },
  {
   "cell_type": "code",
   "execution_count": 41,
   "metadata": {},
   "outputs": [
    {
     "data": {
      "text/plain": [
       "-0.002981552864405145"
      ]
     },
     "execution_count": 41,
     "metadata": {},
     "output_type": "execute_result"
    }
   ],
   "source": [
    "np.median(array)"
   ]
  },
  {
   "cell_type": "code",
   "execution_count": 42,
   "metadata": {},
   "outputs": [
    {
     "data": {
      "text/plain": [
       "-0.002981552864405145"
      ]
     },
     "execution_count": 42,
     "metadata": {},
     "output_type": "execute_result"
    }
   ],
   "source": [
    "np.quantile(array, 0.5)"
   ]
  },
  {
   "cell_type": "markdown",
   "metadata": {},
   "source": [
    "Среднее арифметическое"
   ]
  },
  {
   "cell_type": "code",
   "execution_count": 43,
   "metadata": {},
   "outputs": [
    {
     "data": {
      "text/plain": [
       "0.0004974809608262239"
      ]
     },
     "execution_count": 43,
     "metadata": {},
     "output_type": "execute_result"
    }
   ],
   "source": [
    "np.mean(array)"
   ]
  },
  {
   "cell_type": "code",
   "execution_count": 44,
   "metadata": {},
   "outputs": [
    {
     "data": {
      "text/plain": [
       "0.0004974809608262239"
      ]
     },
     "execution_count": 44,
     "metadata": {},
     "output_type": "execute_result"
    }
   ],
   "source": [
    "np.average(array)"
   ]
  },
  {
   "cell_type": "code",
   "execution_count": 45,
   "metadata": {},
   "outputs": [],
   "source": [
    "\"\"\"\n",
    "В чем отличие?\n",
    "Avarage можно брать с весами\n",
    "\"\"\"\n",
    "\n",
    "arr = np.arange(1,10)\n",
    "weights = 1/arr"
   ]
  },
  {
   "cell_type": "code",
   "execution_count": 46,
   "metadata": {},
   "outputs": [
    {
     "data": {
      "text/plain": [
       "3.181371861411138"
      ]
     },
     "execution_count": 46,
     "metadata": {},
     "output_type": "execute_result"
    }
   ],
   "source": [
    "np.average(arr, weights=weights)"
   ]
  },
  {
   "cell_type": "code",
   "execution_count": 47,
   "metadata": {},
   "outputs": [
    {
     "data": {
      "text/plain": [
       "3.181371861411138"
      ]
     },
     "execution_count": 47,
     "metadata": {},
     "output_type": "execute_result"
    }
   ],
   "source": [
    "s = 0\n",
    "for i,el in enumerate(arr):\n",
    "    weight = weights[i]\n",
    "    s+=el*weight\n",
    "s/=weights.sum()\n",
    "s"
   ]
  },
  {
   "cell_type": "code",
   "execution_count": 48,
   "metadata": {},
   "outputs": [
    {
     "data": {
      "text/plain": [
       "1.001721797785438"
      ]
     },
     "execution_count": 48,
     "metadata": {},
     "output_type": "execute_result"
    }
   ],
   "source": [
    "\"\"\"\n",
    "Стандартное отклонение\n",
    "\"\"\"\n",
    "\n",
    "np.std(array)"
   ]
  },
  {
   "cell_type": "code",
   "execution_count": 49,
   "metadata": {},
   "outputs": [
    {
     "data": {
      "text/plain": [
       "1.0034465601584899"
      ]
     },
     "execution_count": 49,
     "metadata": {},
     "output_type": "execute_result"
    }
   ],
   "source": [
    "np.var(array)"
   ]
  },
  {
   "cell_type": "markdown",
   "metadata": {},
   "source": [
    "## Корреляции"
   ]
  },
  {
   "cell_type": "code",
   "execution_count": 50,
   "metadata": {},
   "outputs": [
    {
     "data": {
      "text/plain": [
       "array([[ 1., -1.],\n",
       "       [-1.,  1.]])"
      ]
     },
     "execution_count": 50,
     "metadata": {},
     "output_type": "execute_result"
    }
   ],
   "source": [
    "a = np.arange(10)\n",
    "b = a[::-1]\n",
    "\n",
    "np.corrcoef(a,b)"
   ]
  },
  {
   "cell_type": "code",
   "execution_count": 51,
   "metadata": {},
   "outputs": [
    {
     "data": {
      "text/plain": [
       "-0.9999999999999999"
      ]
     },
     "execution_count": 51,
     "metadata": {},
     "output_type": "execute_result"
    }
   ],
   "source": [
    "i = 0\n",
    "j = 1\n",
    "matr = np.corrcoef(a,b)\n",
    "matr[i][j]"
   ]
  },
  {
   "cell_type": "code",
   "execution_count": 56,
   "metadata": {},
   "outputs": [],
   "source": [
    "noisy_b = b + np.random.randn(b.shape[0])*b.std()/10"
   ]
  },
  {
   "cell_type": "code",
   "execution_count": 57,
   "metadata": {},
   "outputs": [
    {
     "data": {
      "text/plain": [
       "array([9.21313362, 8.13648127, 6.20370281, 5.5953868 , 5.03369224,\n",
       "       3.77449364, 3.2458442 , 2.16422546, 1.06982666, 0.49788567])"
      ]
     },
     "execution_count": 57,
     "metadata": {},
     "output_type": "execute_result"
    }
   ],
   "source": [
    "noisy_b"
   ]
  },
  {
   "cell_type": "code",
   "execution_count": 58,
   "metadata": {},
   "outputs": [
    {
     "data": {
      "text/plain": [
       "array([[ 1.      , -0.998359],\n",
       "       [-0.998359,  1.      ]])"
      ]
     },
     "execution_count": 58,
     "metadata": {},
     "output_type": "execute_result"
    }
   ],
   "source": [
    "np.corrcoef(a, b + noisy_b)"
   ]
  },
  {
   "cell_type": "markdown",
   "metadata": {},
   "source": [
    "##  Задачи"
   ]
  },
  {
   "cell_type": "markdown",
   "metadata": {},
   "source": [
    "## Вам дана матрица оценок школьников за все контрольные года по физике\n",
    "### 1. Найдите  среднюю оценку каждого ученика а) в случае равнозначности оценок б) В случае линейно возрастающей от 0.5 до 1 стоимости оценки с начала года к его концу. Отсортируйте учеников по их оценкам\n",
    "\n",
    "### 2. Найдите лучшего ученика и узнайте, списывал ли кто-то у него систематически\n"
   ]
  },
  {
   "cell_type": "code",
   "execution_count": 66,
   "metadata": {},
   "outputs": [],
   "source": [
    "import pandas as pd\n",
    "import numpy as np"
   ]
  },
  {
   "cell_type": "code",
   "execution_count": 75,
   "metadata": {},
   "outputs": [],
   "source": [
    "marks = pd.array(data=[[3, 4, 2, 2, 3, 5, 2, 4, 5, 2, 2, 3, 3, 3, 2],\n",
    "       [4, 4, 5, 5, 3, 5, 2, 5, 4, 5, 2, 2, 2, 5, 2],\n",
    "       [5, 3, 5, 5, 3, 4, 5, 4, 4, 3, 5, 2, 5, 3, 3],\n",
    "       [5, 4, 3, 4, 3, 2, 2, 3, 3, 4, 3, 4, 4, 5, 5],\n",
    "       [5, 3, 5, 5, 4, 5, 2, 5, 4, 2, 3, 2, 4, 4, 2],\n",
    "       [2, 3, 5, 5, 5, 2, 3, 5, 5, 4, 4, 4, 4, 5, 4],\n",
    "       [4, 3, 5, 5, 4, 4, 4, 2, 5, 2, 4, 3, 5, 5, 2],\n",
    "       [4, 5, 5, 4, 5, 5, 4, 4, 5, 5, 4, 4, 5, 4, 4],\n",
    "       [3, 5, 4, 5, 5, 2, 2, 3, 5, 5, 5, 2, 3, 4, 3],\n",
    "       [2, 4, 5, 2, 4, 4, 4, 2, 3, 5, 2, 5, 4, 3, 3],\n",
    "       [5, 5, 2, 3, 4, 3, 2, 5, 5, 2, 3, 3, 4, 3, 2],\n",
    "       [3, 5, 5, 4, 2, 3, 4, 4, 3, 5, 4, 4, 5, 3, 2],\n",
    "       [4, 5, 4, 3, 4, 4, 4, 4, 4, 5, 3, 3, 5, 3, 3],\n",
    "       [3, 3, 2, 3, 3, 5, 3, 3, 4, 4, 2, 5, 2, 2, 5],\n",
    "       [3, 3, 2, 4, 3, 5, 2, 5, 2, 4, 3, 2, 4, 2, 4],\n",
    "       [2, 5, 5, 4, 2, 3, 3, 3, 4, 3, 4, 2, 5, 4, 3],\n",
    "       [4, 5, 4, 4, 4, 4, 3, 3, 4, 4, 4, 3, 4, 4, 3],\n",
    "       [4, 3, 5, 2, 4, 2, 3, 4, 2, 5, 4, 5, 2, 2, 3],\n",
    "       [4, 2, 3, 3, 3, 4, 3, 3, 3, 4, 4, 5, 3, 5, 2],\n",
    "       [2, 3, 4, 2, 3, 2, 4, 2, 4, 4, 3, 4, 3, 2, 5],\n",
    "       [5, 4, 3, 4, 5, 2, 2, 2, 2, 5, 2, 2, 4, 2, 4],\n",
    "       [4, 4, 4, 5, 4, 5, 5, 2, 5, 3, 2, 2, 3, 3, 2],\n",
    "       [3, 3, 4, 2, 2, 5, 2, 4, 2, 2, 4, 4, 5, 3, 3],\n",
    "       [5, 5, 2, 4, 5, 2, 2, 3, 4, 4, 5, 2, 5, 5, 3],\n",
    "       [3, 5, 4, 5, 2, 5, 3, 3, 4, 2, 5, 4, 2, 3, 4],\n",
    "       [4, 3, 3, 4, 5, 3, 2, 4, 2, 4, 4, 2, 5, 3, 5],\n",
    "       [4, 5, 5, 3, 5, 4, 3, 4, 4, 5, 3, 3, 5, 3, 4],\n",
    "       [4, 3, 5, 5, 4, 4, 2, 3, 4, 4, 5, 3, 3, 2, 5],\n",
    "       [2, 3, 4, 4, 5, 4, 2, 3, 5, 4, 3, 3, 5, 3, 4],\n",
    "       [5, 5, 2, 2, 3, 4, 5, 5, 5, 2, 2, 4, 3, 5, 3]], dtype=np.int64)"
   ]
  },
  {
   "cell_type": "code",
   "execution_count": 76,
   "metadata": {},
   "outputs": [
    {
     "data": {
      "text/plain": [
       "<NumpyExtensionArray>\n",
       "[\n",
       "[3, 4, 2, 2, 3, 5, 2, 4, 5, 2, 2, 3, 3, 3, 2],\n",
       "[4, 4, 5, 5, 3, 5, 2, 5, 4, 5, 2, 2, 2, 5, 2],\n",
       "[5, 3, 5, 5, 3, 4, 5, 4, 4, 3, 5, 2, 5, 3, 3],\n",
       "[5, 4, 3, 4, 3, 2, 2, 3, 3, 4, 3, 4, 4, 5, 5],\n",
       "[5, 3, 5, 5, 4, 5, 2, 5, 4, 2, 3, 2, 4, 4, 2],\n",
       "[2, 3, 5, 5, 5, 2, 3, 5, 5, 4, 4, 4, 4, 5, 4],\n",
       "[4, 3, 5, 5, 4, 4, 4, 2, 5, 2, 4, 3, 5, 5, 2],\n",
       "[4, 5, 5, 4, 5, 5, 4, 4, 5, 5, 4, 4, 5, 4, 4],\n",
       "[3, 5, 4, 5, 5, 2, 2, 3, 5, 5, 5, 2, 3, 4, 3],\n",
       "[2, 4, 5, 2, 4, 4, 4, 2, 3, 5, 2, 5, 4, 3, 3],\n",
       "[5, 5, 2, 3, 4, 3, 2, 5, 5, 2, 3, 3, 4, 3, 2],\n",
       "[3, 5, 5, 4, 2, 3, 4, 4, 3, 5, 4, 4, 5, 3, 2],\n",
       "[4, 5, 4, 3, 4, 4, 4, 4, 4, 5, 3, 3, 5, 3, 3],\n",
       "[3, 3, 2, 3, 3, 5, 3, 3, 4, 4, 2, 5, 2, 2, 5],\n",
       "[3, 3, 2, 4, 3, 5, 2, 5, 2, 4, 3, 2, 4, 2, 4],\n",
       "[2, 5, 5, 4, 2, 3, 3, 3, 4, 3, 4, 2, 5, 4, 3],\n",
       "[4, 5, 4, 4, 4, 4, 3, 3, 4, 4, 4, 3, 4, 4, 3],\n",
       "[4, 3, 5, 2, 4, 2, 3, 4, 2, 5, 4, 5, 2, 2, 3],\n",
       "[4, 2, 3, 3, 3, 4, 3, 3, 3, 4, 4, 5, 3, 5, 2],\n",
       "[2, 3, 4, 2, 3, 2, 4, 2, 4, 4, 3, 4, 3, 2, 5],\n",
       "[5, 4, 3, 4, 5, 2, 2, 2, 2, 5, 2, 2, 4, 2, 4],\n",
       "[4, 4, 4, 5, 4, 5, 5, 2, 5, 3, 2, 2, 3, 3, 2],\n",
       "[3, 3, 4, 2, 2, 5, 2, 4, 2, 2, 4, 4, 5, 3, 3],\n",
       "[5, 5, 2, 4, 5, 2, 2, 3, 4, 4, 5, 2, 5, 5, 3],\n",
       "[3, 5, 4, 5, 2, 5, 3, 3, 4, 2, 5, 4, 2, 3, 4],\n",
       "[4, 3, 3, 4, 5, 3, 2, 4, 2, 4, 4, 2, 5, 3, 5],\n",
       "[4, 5, 5, 3, 5, 4, 3, 4, 4, 5, 3, 3, 5, 3, 4],\n",
       "[4, 3, 5, 5, 4, 4, 2, 3, 4, 4, 5, 3, 3, 2, 5],\n",
       "[2, 3, 4, 4, 5, 4, 2, 3, 5, 4, 3, 3, 5, 3, 4],\n",
       "[5, 5, 2, 2, 3, 4, 5, 5, 5, 2, 2, 4, 3, 5, 3]\n",
       "]\n",
       "Shape: (30, 15), dtype: int64"
      ]
     },
     "execution_count": 76,
     "metadata": {},
     "output_type": "execute_result"
    }
   ],
   "source": [
    "marks"
   ]
  },
  {
   "cell_type": "code",
   "execution_count": 77,
   "metadata": {},
   "outputs": [
    {
     "data": {
      "text/plain": [
       "7"
      ]
     },
     "execution_count": 77,
     "metadata": {},
     "output_type": "execute_result"
    }
   ],
   "source": [
    "np.argmax(np.mean(marks, axis=1))"
   ]
  },
  {
   "cell_type": "code",
   "execution_count": 84,
   "metadata": {},
   "outputs": [
    {
     "data": {
      "text/plain": [
       "7"
      ]
     },
     "execution_count": 84,
     "metadata": {},
     "output_type": "execute_result"
    }
   ],
   "source": [
    "best_student = np.argmax(np.mean(marks, axis=1))\n",
    "best_student"
   ]
  },
  {
   "cell_type": "code",
   "execution_count": 79,
   "metadata": {},
   "outputs": [],
   "source": [
    "matr = np.corrcoef(marks)"
   ]
  },
  {
   "cell_type": "code",
   "execution_count": 80,
   "metadata": {},
   "outputs": [
    {
     "data": {
      "text/plain": [
       "array([ 1.        ,  0.29801978, -0.19408094, -0.27116307,  0.37888611,\n",
       "       -0.1875    ,  0.05828155,  0.38816188, -0.10928255, -0.05936696,\n",
       "        0.67763093, -0.19408094,  0.26969811,  0.30376574,  0.1851993 ,\n",
       "        0.        ,  0.23836565, -0.39800147,  0.        , -0.33730442,\n",
       "       -0.31693285,  0.28139073,  0.2469324 ,  0.        ,  0.17877424,\n",
       "       -0.31513718,  0.15811388, -0.25877458,  0.2033723 ,  0.621059  ])"
      ]
     },
     "execution_count": 80,
     "metadata": {},
     "output_type": "execute_result"
    }
   ],
   "source": [
    "matr[i]"
   ]
  },
  {
   "cell_type": "code",
   "execution_count": 81,
   "metadata": {},
   "outputs": [],
   "source": [
    "students_cor = np.argsort(matr[i])"
   ]
  },
  {
   "cell_type": "code",
   "execution_count": 82,
   "metadata": {},
   "outputs": [
    {
     "data": {
      "text/plain": [
       "array([17, 19, 20, 25,  3, 27,  2, 11,  5,  8,  9, 15, 23, 18,  6, 26, 24,\n",
       "       14, 28, 16, 22, 12, 21,  1, 13,  4,  7, 29, 10,  0], dtype=int64)"
      ]
     },
     "execution_count": 82,
     "metadata": {},
     "output_type": "execute_result"
    }
   ],
   "source": [
    "students_cor"
   ]
  },
  {
   "cell_type": "code",
   "execution_count": null,
   "metadata": {},
   "outputs": [],
   "source": []
  }
 ],
 "metadata": {
  "kernelspec": {
   "display_name": "Python 3 (ipykernel)",
   "language": "python",
   "name": "python3"
  },
  "language_info": {
   "codemirror_mode": {
    "name": "ipython",
    "version": 3
   },
   "file_extension": ".py",
   "mimetype": "text/x-python",
   "name": "python",
   "nbconvert_exporter": "python",
   "pygments_lexer": "ipython3",
   "version": "3.11.7"
  }
 },
 "nbformat": 4,
 "nbformat_minor": 4
}
